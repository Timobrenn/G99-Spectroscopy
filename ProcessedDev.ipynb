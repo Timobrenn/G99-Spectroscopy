{
 "cells": [
  {
   "cell_type": "code",
   "id": "initial_id",
   "metadata": {
    "collapsed": true,
    "ExecuteTime": {
     "end_time": "2024-06-04T13:11:08.823624Z",
     "start_time": "2024-06-04T13:11:08.071687Z"
    }
   },
   "source": [
    "from pathlib import Path\n",
    "\n",
    "import numpy as np\n",
    "from astropy.io import fits\n",
    "\n",
    "# Define where the directory is located\n",
    "datadir2 = \"/Users/stefa/OneDrive/Documenten/Blaauw images/Spectroscope/Live\"\n",
    "datadir = \"C:/Users/stefa/OneDrive/Documenten/Blaauw images/Spectroscope\"\n",
    "procdir = \"/Users/stefa/OneDrive/Documenten/Blaauw images/Spectroscope/Process/i\"\n",
    "\n",
    "# Use pathlib.Path to create a pathobject\n",
    "pathobject = Path(datadir)\n",
    "pathobject2 = Path(datadir2)\n",
    "\n",
    "myfitsfiles = []\n",
    "myfitsfiles2 = []\n",
    "\n",
    "# Loop over all files in the directory and grab the fits files\n",
    "for f in pathobject.iterdir():\n",
    "    if f.suffix.lower() in ['.fits', '.fit', '.fts']:\n",
    "        myfitsfiles.append(f)\n",
    "\n",
    "for f in pathobject2.iterdir():\n",
    "    if f.suffix.lower() in ['.fits', '.fit', '.fts']:\n",
    "        myfitsfiles2.append(f)\n"
   ],
   "outputs": [],
   "execution_count": 2
  },
  {
   "metadata": {
    "ExecuteTime": {
     "end_time": "2024-06-04T13:11:09.120375Z",
     "start_time": "2024-06-04T13:11:08.823624Z"
    }
   },
   "cell_type": "code",
   "source": [
    "# Create the image class\n",
    "\n",
    "class image:\n",
    "    def __init__(self, filepath, fits_imagetyp='', fits_exptime=0, fits_filter='', fits_date_obs=0, fits_naxis1=0, fits_naxis2=0, pixelsize=18):\n",
    "        self.filepath = filepath\n",
    "        self.filename = filepath.name\n",
    "        self.imagetyp = fits_imagetyp\n",
    "        self.exptime = fits_exptime\n",
    "        self.filter = fits_filter\n",
    "        self.date_obs = fits_date_obs\n",
    "        self.naxis1 = fits_naxis1\n",
    "        self.naxis2 = fits_naxis2\n",
    "        self.pixelsize = pixelsize\n",
    "\n",
    "myimages = []\n",
    "myimages2 = []\n",
    "\n",
    "# Loop over all of the filepaths in myfitsfiles, open each image, give it the image class and append it to the list of images\n",
    "for filepath in myfitsfiles:\n",
    "    hdulist = fits.open(filepath)\n",
    "    hdr = hdulist[0].header\n",
    "    # Assumes same pixelsize in x and y\n",
    "    newimage = image(filepath, hdr.get('IMAGETYP'), hdr.get('EXPTIME'), hdr.get('FILTER'), hdr.get('DATE-OBS'), hdr.get('NAXIS1'), hdr.get('NAXIS2'), hdr.get('XPIXSZ'))\n",
    "    myimages.append(newimage)\n",
    "    hdulist.close()\n",
    "\n",
    "for filepath in myfitsfiles2:\n",
    "    hdulist = fits.open(filepath)\n",
    "    hdr = hdulist[0].header\n",
    "    # Assumes same pixelsize in x and y\n",
    "    newimage = image(filepath, hdr.get('IMAGETYP'), hdr.get('EXPTIME'), hdr.get('FILTER'), hdr.get('DATE-OBS'), hdr.get('NAXIS1'), hdr.get('NAXIS2'), hdr.get('XPIXSZ'))\n",
    "    myimages2.append(newimage)\n",
    "    hdulist.close()\n",
    "\n",
    "    # Comment for self: Dark Frame, Bias Frame, Flat Field, Light Frame"
   ],
   "id": "4334894e63293378",
   "outputs": [],
   "execution_count": 3
  },
  {
   "metadata": {
    "ExecuteTime": {
     "end_time": "2024-06-04T13:11:10.864658Z",
     "start_time": "2024-06-04T13:11:09.120375Z"
    }
   },
   "cell_type": "code",
   "source": [
    "# Create the masterbias\n",
    "\n",
    "from matplotlib.pyplot import figure, show, close\n",
    "from astropy.visualization import ImageNormalize, SquaredStretch\n",
    "\n",
    "# Loop over all the images in our list and check if they are Bias frames, if they are we append them to the Bias_list\n",
    "Bias_list = []\n",
    "count = 0\n",
    "for im in myimages:\n",
    "    if 'bias frame' in im.imagetyp.lower():\n",
    "        hdulist = fits.open(im.filepath)\n",
    "        dat = hdulist[0].data\n",
    "        Bias_list.append(dat)\n",
    "        hdulist.close\n",
    "\n",
    "# Then we median combine the images        \n",
    "Bias_stack = np.stack(Bias_list)\n",
    "masterbias = np.median(Bias_stack, axis=0)"
   ],
   "id": "81812af8ba0d6eb7",
   "outputs": [],
   "execution_count": 4
  },
  {
   "metadata": {
    "ExecuteTime": {
     "end_time": "2024-06-04T13:11:12.165642Z",
     "start_time": "2024-06-04T13:11:10.864658Z"
    }
   },
   "cell_type": "code",
   "source": [
    "# Create the masterdark\n",
    "\n",
    "# Loop over all the images in our list and check if they are Bias frames, if they are we append them to the Bias_list\n",
    "Darks_list = []\n",
    "count = 0\n",
    "for im in myimages:\n",
    "    if 'dark frame' in im.imagetyp.lower():\n",
    "        hdulist = fits.open(im.filepath)\n",
    "        dat = hdulist[0].data\n",
    "        Darks_list.append((dat - masterbias)/im.exptime)\n",
    "        hdulist.close\n",
    "\n",
    "# Then we median combine the darks\n",
    "Darks_stack = np.stack(Darks_list)\n",
    "masterdark = np.median(Darks_stack, axis=0)"
   ],
   "id": "42bedf4721cd4363",
   "outputs": [],
   "execution_count": 5
  },
  {
   "metadata": {
    "ExecuteTime": {
     "end_time": "2024-06-04T13:11:12.330204Z",
     "start_time": "2024-06-04T13:11:12.165642Z"
    }
   },
   "cell_type": "code",
   "source": [
    "# Let's do the masterflat next\n",
    "\n",
    "# Loop over all the images in our list and check if they are Bias frames, if they are we append them to the Bias_list\n",
    "Flats_list = []\n",
    "count = 0\n",
    "for im in myimages2:\n",
    "    if 'flat field' in im.imagetyp.lower():\n",
    "        hdulist = fits.open(im.filepath)\n",
    "        dat = hdulist[0].data\n",
    "        Flats_list.append(dat)\n",
    "        hdulist.close\n",
    "\n",
    "# # Lets inspect the Flats\n",
    "# c = 0\n",
    "# for obj in Flats_list:\n",
    "#     fig = figure()\n",
    "#     frame = fig.add_subplot(1,1,1)\n",
    "#     norm = ImageNormalize(stretch=SquaredStretch())\n",
    "#     frame.imshow(obj, interpolation='none', origin='lower', cmap='gray', norm=norm)\n",
    "#     frame.set_title(f\"{c}, min = {np.min(obj)}, max = {np.max(obj)}\")\n",
    "#     show(fig)\n",
    "#     close(fig)\n",
    "#     c += 1\n",
    "\n",
    "# After inspecting the flats we get\n",
    "Flats_list_sorted = Flats_list[0:4]"
   ],
   "id": "a6ecca69c22fbc3f",
   "outputs": [],
   "execution_count": 6
  },
  {
   "metadata": {
    "ExecuteTime": {
     "end_time": "2024-06-04T13:11:12.878626Z",
     "start_time": "2024-06-04T13:11:12.330204Z"
    }
   },
   "cell_type": "code",
   "source": [
    "# Then we calibrate the flats with masterbias and median combine the images (We don't need to concern with the darks as the dark current can't really build up during flats\n",
    "Flats_stack = np.stack(Flats_list_sorted-masterbias)\n",
    "Flats_median = np.median(Flats_stack)\n",
    "Flats_stack_normalized = Flats_stack/Flats_median\n",
    "masterflat_to_be_normalized = np.median(Flats_stack_normalized, axis=0)\n",
    "masterflat = masterflat_to_be_normalized/np.median(masterflat_to_be_normalized)"
   ],
   "id": "143c6add4c267cb",
   "outputs": [],
   "execution_count": 7
  },
  {
   "metadata": {
    "ExecuteTime": {
     "end_time": "2024-06-04T13:11:16.337845Z",
     "start_time": "2024-06-04T13:11:12.881846Z"
    }
   },
   "cell_type": "code",
   "source": [
    "# Now that we have our master calibration files we can work on our lights, first we calibrate\n",
    "lights = []\n",
    "for im in myimages2:\n",
    "    if 'light frame' in im.imagetyp.lower():\n",
    "        hdulist = fits.open(im.filepath)\n",
    "        data = hdulist[0].data.astype(float)\n",
    "        data -= masterdark*im.exptime + masterbias\n",
    "        # data /= masterflat   # Don't devide by the masterflat, because it gives weird results due to the dark patches between the emission lines\n",
    "        lights.append(data)\n",
    "        hdulist.close\n",
    "\n",
    "# Let's inspect the lights\n",
    "# c = 0\n",
    "# for obj in lights:\n",
    "#     fig = figure()\n",
    "#     frame = fig.add_subplot(1,1,1)\n",
    "#     frame.imshow(obj, interpolation='none', origin='lower', cmap='gray')\n",
    "#     frame.set_title(f\"light {c} with min: {obj.min()}, max: {obj.max()}\")\n",
    "#     show(fig)\n",
    "#     close(fig)\n",
    "#     c += 1"
   ],
   "id": "deb27ac33d466de6",
   "outputs": [],
   "execution_count": 8
  },
  {
   "metadata": {
    "ExecuteTime": {
     "end_time": "2024-06-04T13:11:18.196100Z",
     "start_time": "2024-06-04T13:11:16.338862Z"
    }
   },
   "cell_type": "code",
   "source": [
    "# We use just the first 5, since they appear to be of the same target\n",
    "# 32-42 excluding 35\n",
    "lights_sorted_galaxy = lights[32:34]+lights[36:42]\n",
    "lights_sorted_vega = lights[43:48]\n",
    "lights_sorted_moon = lights[-5:-1]\n",
    "lights_calibration = lights[21:25]\n",
    "lights_sorted_arcturus = lights[29:31]\n",
    "\n",
    "lights_stack = np.stack(lights_sorted_galaxy)\n",
    "masterlight = np.median(lights_stack, axis=0)\n",
    "\n",
    "calibration_stack = np.stack(lights_calibration)\n",
    "mastercalibration = np.median(calibration_stack, axis=0)"
   ],
   "id": "a34d066d2c998be0",
   "outputs": [],
   "execution_count": 9
  },
  {
   "metadata": {
    "ExecuteTime": {
     "end_time": "2024-06-04T13:11:18.234569Z",
     "start_time": "2024-06-04T13:11:18.198668Z"
    }
   },
   "cell_type": "code",
   "source": [
    "# Now that we have a program which calibrates the images we can start on figuring out where the spectral lines are. This is easiest done by using the flat frames first slice in a vertical line\n",
    "vert_slice = masterflat[:,1000]\n",
    "\n",
    "# Based on the plot we want to exclude values with less then 10000 counts\n",
    "fibre_locations = np.where(vert_slice>3)[0]\n",
    "\n",
    "# Now we would like to group all of the values in a single fibre into a single median value to reduce noise, although we do clearly see that the values on the outside are significantly less then the ones in the center.\n",
    "fibre_locations_dict = {}\n",
    "i = 1\n",
    "n = \"fibre_0\"\n",
    "c = 0\n",
    "\n",
    "# Exclude outer 2, because poor signal to noise ratio \n",
    "# And add weighting, cause these tops be looking hella mid\n",
    "\n",
    "for obj in fibre_locations:\n",
    "    try:\n",
    "        if obj+1 == fibre_locations[i]:\n",
    "            try:\n",
    "                fibre_locations_dict[n].append(obj)\n",
    "            except:\n",
    "                fibre_locations_dict[n] = []\n",
    "                fibre_locations_dict[n].append(obj)\n",
    "        else:\n",
    "            fibre_locations_dict[n].append(obj)\n",
    "            c+=1\n",
    "            n = f'fibre_{c}'\n",
    "        i+=1\n",
    "\n",
    "    except:\n",
    "        fibre_locations_dict[n].append(obj)\n",
    "print(fibre_locations_dict)"
   ],
   "id": "cc90c3d5174a6a10",
   "outputs": [
    {
     "name": "stdout",
     "output_type": "stream",
     "text": [
      "{'fibre_0': [110, 111, 112, 113], 'fibre_1': [122, 123, 124, 125, 126, 127, 128, 129], 'fibre_2': [135, 136, 137, 138, 139, 140, 141, 142], 'fibre_3': [149, 150, 151, 152, 153, 154, 155, 156], 'fibre_4': [164, 165, 166, 167, 168, 169, 170, 171, 172], 'fibre_5': [179, 180, 181, 182, 183, 184, 185, 186], 'fibre_6': [205, 206, 207, 208, 209, 210, 211, 212, 213], 'fibre_7': [218, 219, 220, 221, 222, 223, 224, 225, 226], 'fibre_8': [231, 232, 233, 234, 235, 236, 237, 238, 239, 240], 'fibre_9': [245, 246, 247, 248, 249, 250, 251, 252], 'fibre_10': [258, 259, 260, 261, 262, 263, 264, 265, 266], 'fibre_11': [287, 288, 289, 290, 291, 292, 293, 294, 295], 'fibre_12': [302, 303, 304, 305, 306, 307, 308, 309, 310, 311], 'fibre_13': [317, 318, 319, 320, 321, 322, 323, 324, 325, 326], 'fibre_14': [335, 336, 337, 338, 339, 340, 341, 342], 'fibre_15': [356, 357, 358, 359, 360, 361, 362, 363, 364], 'fibre_16': [386, 387, 388, 389, 390, 391, 392, 393, 394], 'fibre_17': [400, 401, 402, 403, 404, 405, 406, 407, 408, 409], 'fibre_18': [416, 417, 418, 419, 420, 421, 422, 423, 424, 425], 'fibre_19': [432, 433, 434, 435, 436, 437, 438, 439, 440, 441], 'fibre_20': [450, 451, 452, 453, 454, 455, 456, 457, 458, 459], 'fibre_21': [466, 467, 468, 469, 470, 471, 472, 473, 474, 475], 'fibre_22': [499, 500, 501, 502, 503, 504, 505, 506, 507, 508, 509], 'fibre_23': [516, 517, 518, 519, 520, 521, 522, 523, 524, 525], 'fibre_24': [533, 534, 535, 536, 537, 538, 539, 540, 541, 542], 'fibre_25': [549, 550, 551, 552, 553, 554, 555, 556, 557, 558], 'fibre_26': [566, 567, 568, 569, 570, 571, 572, 573, 574, 575], 'fibre_27': [585, 586, 587, 588], 'fibre_28': [600, 601, 602, 603, 604, 605, 606, 607, 608, 609], 'fibre_29': [615, 616, 617, 618, 619, 620, 621, 622, 623, 624, 625], 'fibre_30': [632, 633, 634, 635, 636, 637, 638, 639, 640, 641], 'fibre_31': [649, 650, 651, 652, 653, 654, 655, 656, 657, 658], 'fibre_32': [665, 666, 667, 668, 669, 670, 671, 672, 673, 674, 675], 'fibre_33': [683, 684, 685, 686, 687, 688, 689, 690, 691, 692], 'fibre_34': [698, 699, 700, 701, 702, 703, 704, 705, 706, 707, 708], 'fibre_35': [731, 732, 733, 734, 735, 736, 737, 738, 739, 740], 'fibre_36': [747, 748, 749, 750, 751, 752, 753, 754, 755, 756, 757], 'fibre_37': [764, 765, 766, 767, 768, 769, 770, 771, 772, 773], 'fibre_38': [782, 783, 784, 785, 786, 787, 788, 789, 790, 791, 792], 'fibre_39': [798, 799, 800, 801, 802, 803, 804, 805, 806, 807, 808], 'fibre_40': [830, 831, 832, 833, 834, 835, 836, 837, 838, 839, 840], 'fibre_41': [847, 848, 849, 850, 851, 852, 853, 854, 855, 856], 'fibre_42': [865, 866, 867, 868, 869, 870, 871, 872, 873, 874], 'fibre_43': [881, 882, 883, 884, 885, 886, 887, 888, 889, 890], 'fibre_44': [898, 899, 900, 901, 902, 903, 904, 905, 906, 907], 'fibre_45': [914, 915, 916, 917, 918, 919, 920, 921, 922, 923], 'fibre_46': [947, 948, 949, 950, 951, 952, 953, 954, 955, 956, 957], 'fibre_47': [963, 964, 965, 966, 967, 968, 969, 970, 971, 972, 973], 'fibre_48': [981, 982, 983, 984, 985, 986, 987, 988, 989, 990], 'fibre_49': [997, 998, 999, 1000, 1001, 1002, 1003, 1004, 1005, 1006], 'fibre_50': [1014, 1015, 1016, 1017, 1018, 1019, 1020, 1021, 1022, 1023], 'fibre_51': [1047, 1048, 1049, 1050, 1051, 1052, 1053, 1054, 1055, 1056], 'fibre_52': [1063, 1064, 1065, 1066, 1067, 1068, 1069, 1070, 1071, 1072], 'fibre_53': [1079, 1080, 1081, 1082, 1083, 1084, 1085, 1086, 1087, 1088], 'fibre_54': [1097, 1098, 1099, 1100, 1101, 1102, 1103, 1104], 'fibre_55': [1113, 1114, 1115, 1116, 1117, 1118, 1119, 1120, 1121, 1122], 'fibre_56': [1146, 1147, 1148, 1149, 1150, 1151, 1152, 1153, 1154, 1155], 'fibre_57': [1163, 1164, 1165, 1166, 1167, 1168, 1169, 1170, 1171], 'fibre_58': [1179, 1180, 1181, 1182, 1183, 1184, 1185, 1186, 1187], 'fibre_59': [1195, 1196, 1197, 1198, 1199, 1200, 1201, 1202, 1203], 'fibre_60': [1214, 1215, 1216, 1217, 1218, 1219, 1220, 1221], 'fibre_61': [1229, 1230, 1231, 1232, 1233, 1234, 1235, 1236, 1237]}\n"
     ]
    }
   ],
   "execution_count": 10
  },
  {
   "metadata": {
    "ExecuteTime": {
     "end_time": "2024-06-04T13:11:18.350834Z",
     "start_time": "2024-06-04T13:11:18.235581Z"
    }
   },
   "cell_type": "code",
   "source": [
    "# Now that we have the locations of the fibres we make an intensity plot of the median of all the collumns that a fibre consists of.\n",
    "def find_maximum_slice(horizontal_slice_dict):\n",
    "    '''\n",
    "    :purpose: Finds the location of the slice which contains the maximum value\n",
    "    :input: Dictionary medians of horizontal slices\n",
    "    :return: The location of the slice which contains the maximum value\n",
    "    '''\n",
    "    Total_max = np.max(horizontal_slice_dict['fibre_0'])\n",
    "    for i in horizontal_slice_dict:\n",
    "        Max_of_row = np.max(horizontal_slice_dict[i])\n",
    "        if Max_of_row>Total_max:\n",
    "            Total_max = Max_of_row\n",
    "            location = i\n",
    "    return location\n",
    "\n",
    "horizontal_slice_dict = {}\n",
    "horizontal_slice_moon_dict = {}\n",
    "flat_horizontal_slice_dict = {}\n",
    "horizontal_slice_list = []\n",
    "\n",
    "# Loop over all the fibres\n",
    "for i in fibre_locations_dict:\n",
    "    # Do the slicing\n",
    "    horizontal_slice = masterlight[fibre_locations_dict[i],:]\n",
    "    horizontal_slice_moon = masterlight_moon[fibre_locations_dict[i],:]\n",
    "    flat_horizontal_slice = masterflat[fibre_locations_dict[i], :]\n",
    "    # Take the median\n",
    "    horizontal_slices_median = np.median(horizontal_slice, axis=0)\n",
    "    horizontal_slices_median_moon = np.median(horizontal_slice_moon, axis=0)\n",
    "    flat_horizontal_slice_median = np.median(flat_horizontal_slice, axis=0)\n",
    "    # Add this median line to the dictionary\n",
    "    horizontal_slice_dict[i] = horizontal_slices_median\n",
    "    horizontal_slice_moon_dict[i] = horizontal_slices_median_moon\n",
    "    flat_horizontal_slice_dict[i] = flat_horizontal_slice_median\n",
    "    # Append list\n",
    "    horizontal_slice_list.append(horizontal_slices_median)\n",
    "\n",
    "\n",
    "# We want to save the horizontal_slice_dict and use it in further stuff\n",
    "location_of_maximum = find_maximum_slice(horizontal_slice_dict)"
   ],
   "id": "5b04a3d171dacfe",
   "outputs": [
    {
     "ename": "NameError",
     "evalue": "name 'masterlight_moon' is not defined",
     "output_type": "error",
     "traceback": [
      "\u001B[1;31m---------------------------------------------------------------------------\u001B[0m",
      "\u001B[1;31mNameError\u001B[0m                                 Traceback (most recent call last)",
      "Cell \u001B[1;32mIn[11], line 25\u001B[0m\n\u001B[0;32m     22\u001B[0m \u001B[38;5;28;01mfor\u001B[39;00m i \u001B[38;5;129;01min\u001B[39;00m fibre_locations_dict:\n\u001B[0;32m     23\u001B[0m     \u001B[38;5;66;03m# Do the slicing\u001B[39;00m\n\u001B[0;32m     24\u001B[0m     horizontal_slice \u001B[38;5;241m=\u001B[39m masterlight[fibre_locations_dict[i],:]\n\u001B[1;32m---> 25\u001B[0m     horizontal_slice_moon \u001B[38;5;241m=\u001B[39m \u001B[43mmasterlight_moon\u001B[49m[fibre_locations_dict[i],:]\n\u001B[0;32m     26\u001B[0m     flat_horizontal_slice \u001B[38;5;241m=\u001B[39m masterflat[fibre_locations_dict[i], :]\n\u001B[0;32m     27\u001B[0m     \u001B[38;5;66;03m# Take the median\u001B[39;00m\n",
      "\u001B[1;31mNameError\u001B[0m: name 'masterlight_moon' is not defined"
     ]
    }
   ],
   "execution_count": 11
  },
  {
   "metadata": {
    "ExecuteTime": {
     "end_time": "2024-06-04T13:11:18.350834Z",
     "start_time": "2024-06-04T13:11:18.350834Z"
    }
   },
   "cell_type": "code",
   "source": [
    "pixels_xaxis = 2004\n",
    "\n",
    "# Location of the peaks in our image\n",
    "a1 = np.array([199,1597,1863])\n",
    "# Values from literature: Hb = 486.1, Ha = 656.3, O2 = 686.9\n",
    "c1 = np.array([486.1,656.3,686.9])\n",
    "a2 = np.arange(0,pixels_xaxis, 1)\n",
    "\n",
    "def wavelenghtfit(a1,c1):\n",
    "    ''''\n",
    "    Function to calculate the wavelenght calibration polynomial\n",
    "    input: a1 and c1 are arrays where the first is the pixel values found and c1 are the wavelength values\n",
    "    output: wavelenght calibration polynomial\n",
    "    '''\n",
    "    y = np.poly1d(np.polyfit(a1,c1,1))\n",
    "    return(y)\n",
    "\n",
    "y = (wavelenghtfit(a1,c1))\n",
    "\n",
    "wavelenght_calibrated = np.polyval(y, a2)\n",
    "\n",
    "# Test wavelenght calibration\n",
    "# fig = figure()\n",
    "# frame = fig.add_subplot(1,1,1)\n",
    "# frame.plot(wavelenght_calibrated, flat_calibrated)\n",
    "# frame.set_title(f\"{location_of_maximum} wavelenght calibrated\")\n",
    "# frame.grid()\n",
    "# show(fig)\n",
    "# close(fig)"
   ],
   "id": "f17caa25ff2393ae",
   "outputs": [],
   "execution_count": null
  }
 ],
 "metadata": {
  "kernelspec": {
   "display_name": "Python 3",
   "language": "python",
   "name": "python3"
  },
  "language_info": {
   "codemirror_mode": {
    "name": "ipython",
    "version": 2
   },
   "file_extension": ".py",
   "mimetype": "text/x-python",
   "name": "python",
   "nbconvert_exporter": "python",
   "pygments_lexer": "ipython2",
   "version": "2.7.6"
  }
 },
 "nbformat": 4,
 "nbformat_minor": 5
}
