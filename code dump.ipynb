{
 "cells": [
  {
   "cell_type": "code",
   "execution_count": null,
   "id": "initial_id",
   "metadata": {
    "collapsed": true
   },
   "outputs": [],
   "source": [
    "# D1, D5 -> 1st Fe I, O2\n",
    "D2=np.array([-0.2,550,5])\n",
    "D3=np.array([-0.1,590,5])\n",
    "D4=np.array([-0.1,640,5])\n",
    "D5=np.array([-0.1,830,5])\n",
    "D6=np.array([-0.1,880,5])\n",
    "D7=np.array([-0.1,980,5])\n",
    "D8=np.array([-0.2,1095,5]) #Na I\n",
    "\n",
    "D9 = np.array([-0.1,1350,20]) #?\n",
    "D11 = np.array([-0.15,1600,10]) #Fe I\n",
    "\n",
    "initial_gaussians = [D1,D2,D3,D4,D5,D6,D7,D8,D9,D11,D12]"
   ]
  },
  {
   "metadata": {},
   "cell_type": "code",
   "outputs": [],
   "execution_count": null,
   "source": [
    "# separate code for the 3rd peak because it's being quirky; TODO: add 4th peak at ~1400 \n",
    "# wait is it an emission peak??? should vega even have emission?????? no it shouldn't\n",
    "# my interpretation: H-alpha (~6600 A), H-beta (~4850 A), O2 band (~6950) TODO: make it an actual band\n",
    "\n",
    "# a special function for the O2 band\n",
    "def f_double_gaussian(x, a1, m1, s1, z, a2, m2, s2):\n",
    "    return a1 * np.exp(-(x - m1) * (x - m1) / (2.0 * s1 * s1)) + z + a2*np.exp(-(x - m2) * (x - m2) / (2.0 * s2 * s2))\n",
    "\n",
    "\n",
    "x_range_3rdpeak = np.arange(1850,1900)\n",
    "\n",
    "beta, pcov3 = curve_fit(f_double_gaussian, x_range, dat_vega_0, p0=(-0.4, 1860, 1, 1.05,-0.2,1870,1))\n",
    "\n",
    "a3,m3,s3,z3,a4,m4,s4=beta\n",
    "# f_3rdpeak = np.zeros(x_range)\n",
    "# f_3rdpeak[range(1850,1900)]=f_gaussian(x_range,a3,m3,s3,0)\n",
    "\n",
    "z = np.median([z1,z2,z3])\n",
    "\n",
    "f_composed = f_gaussian(x_range,a1,m1,s1,z)+f_gaussian(x_range,a2,m2,s2,0)+f_gaussian(x_range,a3,m3,s3,0)+f_gaussian(x_range,a4,m4,s4,0)\n",
    "fig=figure()\n",
    "frame=fig.add_subplot(1,1,1)\n",
    "frame.scatter(x_range,dat_vega_0,color=\"royalblue\", label=\"Vega spectrum\",s=1)\n",
    "frame.plot(f_composed,color=\"paleturquoise\", label=\"Gaussian fit\")\n",
    "frame.set_title(\"Vega: peaks fitted\")\n",
    "frame.grid(alpha=0.2)\n",
    "frame.legend()\n",
    "show()\n",
    "close(fig)"
   ],
   "id": "67b7177d9ca8811b"
  }
 ],
 "metadata": {
  "kernelspec": {
   "display_name": "Python 3",
   "language": "python",
   "name": "python3"
  },
  "language_info": {
   "codemirror_mode": {
    "name": "ipython",
    "version": 2
   },
   "file_extension": ".py",
   "mimetype": "text/x-python",
   "name": "python",
   "nbconvert_exporter": "python",
   "pygments_lexer": "ipython2",
   "version": "2.7.6"
  }
 },
 "nbformat": 4,
 "nbformat_minor": 5
}
