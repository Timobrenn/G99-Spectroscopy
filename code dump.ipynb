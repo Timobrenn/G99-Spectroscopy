{
 "cells": [
  {
   "cell_type": "code",
   "execution_count": null,
   "id": "initial_id",
   "metadata": {
    "collapsed": true
   },
   "outputs": [],
   "source": [
    "# D1, D5 -> 1st Fe I, O2\n",
    "D2=np.array([-0.2,550,5])\n",
    "D3=np.array([-0.1,590,5])\n",
    "D4=np.array([-0.1,640,5])\n",
    "D5=np.array([-0.1,830,5])\n",
    "D6=np.array([-0.1,880,5])\n",
    "D7=np.array([-0.1,980,5])\n",
    "D8=np.array([-0.2,1095,5]) #Na I\n",
    "\n",
    "D9 = np.array([-0.1,1350,20]) #?\n",
    "D11 = np.array([-0.15,1600,10]) #Fe I\n",
    "\n",
    "initial_gaussians = [D1,D2,D3,D4,D5,D6,D7,D8,D9,D11,D12]"
   ]
  }
 ],
 "metadata": {
  "kernelspec": {
   "display_name": "Python 3",
   "language": "python",
   "name": "python3"
  },
  "language_info": {
   "codemirror_mode": {
    "name": "ipython",
    "version": 2
   },
   "file_extension": ".py",
   "mimetype": "text/x-python",
   "name": "python",
   "nbconvert_exporter": "python",
   "pygments_lexer": "ipython2",
   "version": "2.7.6"
  }
 },
 "nbformat": 4,
 "nbformat_minor": 5
}
