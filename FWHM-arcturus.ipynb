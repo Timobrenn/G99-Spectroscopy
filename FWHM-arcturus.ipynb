{
 "cells": [
  {
   "cell_type": "code",
   "id": "initial_id",
   "metadata": {
    "collapsed": true,
    "ExecuteTime": {
     "end_time": "2024-06-11T16:08:36.605109Z",
     "start_time": "2024-06-11T16:08:36.601336Z"
    }
   },
   "source": [
    "import numpy as np\n",
    "import matplotlib.pyplot as plt\n",
    "from astropy.io import fits\n",
    "from matplotlib.pyplot import figure, show, close, xlabel, ylabel, title\n",
    "from scipy.constants import k, h, c,e\n",
    "from scipy.optimize import curve_fit\n",
    "from spectrapepper import alsbaseline"
   ],
   "outputs": [],
   "execution_count": 43
  },
  {
   "metadata": {
    "ExecuteTime": {
     "end_time": "2024-06-11T16:08:36.614558Z",
     "start_time": "2024-06-11T16:08:36.607660Z"
    }
   },
   "cell_type": "code",
   "source": [
    "def f_gaussian(x, amp, mu, sigma, zero):\n",
    "    \"\"\"returns the value of a Gaussian function with amplitude amp centered at position mu with width sigma and \n",
    "    offset with respect to the x-axis off zero\"\"\"\n",
    "    # amp, mu, sigma, zero = p\n",
    "    return amp * np.exp(-(x - mu) * (x - mu) / (2.0 * sigma * sigma)) + zero\n",
    "\n",
    "def f_exp(x, a,b,z):\n",
    "    \"\"\"returns an exponential function of the form a*exp(b*x)\"\"\"\n",
    "    return a*np.exp(b*x)+z"
   ],
   "id": "f04ebb795eb91d4a",
   "outputs": [],
   "execution_count": 44
  },
  {
   "metadata": {
    "ExecuteTime": {
     "end_time": "2024-06-11T16:08:36.665110Z",
     "start_time": "2024-06-11T16:08:36.616562Z"
    }
   },
   "cell_type": "code",
   "source": [
    "hdulist = fits.open('Reynier files/arcturus_wl.fits')\n",
    "hdulist.info()\n",
    "print()\n",
    "\n",
    "hdr = hdulist[0].header\n",
    "dat = hdulist[0].data\n",
    "print(f\"data shape: {dat.shape}\")\n",
    "\n",
    "\n",
    "fig=figure()\n",
    "frame=fig.add_subplot(1,1,1)\n",
    "frame.plot(dat,color=\"navy\", label=\"Vega spectrum\")\n",
    "frame.set_title(\"Arcturus: our data\")\n",
    "frame.grid(alpha=0.2)\n",
    "show()\n",
    "close(fig)\n",
    "\n",
    "hdulist.close()"
   ],
   "id": "f1edda6ff2c73fb5",
   "outputs": [
    {
     "ename": "FileNotFoundError",
     "evalue": "[Errno 2] No such file or directory: 'Reynier files/arcturus_wl.fits'",
     "output_type": "error",
     "traceback": [
      "\u001B[1;31m---------------------------------------------------------------------------\u001B[0m",
      "\u001B[1;31mFileNotFoundError\u001B[0m                         Traceback (most recent call last)",
      "Cell \u001B[1;32mIn[45], line 1\u001B[0m\n\u001B[1;32m----> 1\u001B[0m hdulist \u001B[38;5;241m=\u001B[39m fits\u001B[38;5;241m.\u001B[39mopen(\u001B[38;5;124m'\u001B[39m\u001B[38;5;124mReynier files/arcturus_wl.fits\u001B[39m\u001B[38;5;124m'\u001B[39m)\n\u001B[0;32m      2\u001B[0m hdulist\u001B[38;5;241m.\u001B[39minfo()\n\u001B[0;32m      3\u001B[0m \u001B[38;5;28mprint\u001B[39m()\n",
      "File \u001B[1;32m~\\anaconda3\\Lib\\site-packages\\astropy\\io\\fits\\hdu\\hdulist.py:213\u001B[0m, in \u001B[0;36mfitsopen\u001B[1;34m(name, mode, memmap, save_backup, cache, lazy_load_hdus, ignore_missing_simple, use_fsspec, fsspec_kwargs, **kwargs)\u001B[0m\n\u001B[0;32m    210\u001B[0m \u001B[38;5;28;01mif\u001B[39;00m \u001B[38;5;129;01mnot\u001B[39;00m name:\n\u001B[0;32m    211\u001B[0m     \u001B[38;5;28;01mraise\u001B[39;00m \u001B[38;5;167;01mValueError\u001B[39;00m(\u001B[38;5;124mf\u001B[39m\u001B[38;5;124m\"\u001B[39m\u001B[38;5;124mEmpty filename: \u001B[39m\u001B[38;5;132;01m{\u001B[39;00mname\u001B[38;5;132;01m!r}\u001B[39;00m\u001B[38;5;124m\"\u001B[39m)\n\u001B[1;32m--> 213\u001B[0m \u001B[38;5;28;01mreturn\u001B[39;00m HDUList\u001B[38;5;241m.\u001B[39mfromfile(\n\u001B[0;32m    214\u001B[0m     name,\n\u001B[0;32m    215\u001B[0m     mode,\n\u001B[0;32m    216\u001B[0m     memmap,\n\u001B[0;32m    217\u001B[0m     save_backup,\n\u001B[0;32m    218\u001B[0m     cache,\n\u001B[0;32m    219\u001B[0m     lazy_load_hdus,\n\u001B[0;32m    220\u001B[0m     ignore_missing_simple,\n\u001B[0;32m    221\u001B[0m     use_fsspec\u001B[38;5;241m=\u001B[39muse_fsspec,\n\u001B[0;32m    222\u001B[0m     fsspec_kwargs\u001B[38;5;241m=\u001B[39mfsspec_kwargs,\n\u001B[0;32m    223\u001B[0m     \u001B[38;5;241m*\u001B[39m\u001B[38;5;241m*\u001B[39mkwargs,\n\u001B[0;32m    224\u001B[0m )\n",
      "File \u001B[1;32m~\\anaconda3\\Lib\\site-packages\\astropy\\io\\fits\\hdu\\hdulist.py:476\u001B[0m, in \u001B[0;36mHDUList.fromfile\u001B[1;34m(cls, fileobj, mode, memmap, save_backup, cache, lazy_load_hdus, ignore_missing_simple, **kwargs)\u001B[0m\n\u001B[0;32m    457\u001B[0m \u001B[38;5;129m@classmethod\u001B[39m\n\u001B[0;32m    458\u001B[0m \u001B[38;5;28;01mdef\u001B[39;00m \u001B[38;5;21mfromfile\u001B[39m(\n\u001B[0;32m    459\u001B[0m     \u001B[38;5;28mcls\u001B[39m,\n\u001B[1;32m   (...)\u001B[0m\n\u001B[0;32m    467\u001B[0m     \u001B[38;5;241m*\u001B[39m\u001B[38;5;241m*\u001B[39mkwargs,\n\u001B[0;32m    468\u001B[0m ):\n\u001B[0;32m    469\u001B[0m \u001B[38;5;250m    \u001B[39m\u001B[38;5;124;03m\"\"\"\u001B[39;00m\n\u001B[0;32m    470\u001B[0m \u001B[38;5;124;03m    Creates an `HDUList` instance from a file-like object.\u001B[39;00m\n\u001B[0;32m    471\u001B[0m \n\u001B[1;32m   (...)\u001B[0m\n\u001B[0;32m    474\u001B[0m \u001B[38;5;124;03m    documentation for details of the parameters accepted by this method).\u001B[39;00m\n\u001B[0;32m    475\u001B[0m \u001B[38;5;124;03m    \"\"\"\u001B[39;00m\n\u001B[1;32m--> 476\u001B[0m     \u001B[38;5;28;01mreturn\u001B[39;00m \u001B[38;5;28mcls\u001B[39m\u001B[38;5;241m.\u001B[39m_readfrom(\n\u001B[0;32m    477\u001B[0m         fileobj\u001B[38;5;241m=\u001B[39mfileobj,\n\u001B[0;32m    478\u001B[0m         mode\u001B[38;5;241m=\u001B[39mmode,\n\u001B[0;32m    479\u001B[0m         memmap\u001B[38;5;241m=\u001B[39mmemmap,\n\u001B[0;32m    480\u001B[0m         save_backup\u001B[38;5;241m=\u001B[39msave_backup,\n\u001B[0;32m    481\u001B[0m         cache\u001B[38;5;241m=\u001B[39mcache,\n\u001B[0;32m    482\u001B[0m         ignore_missing_simple\u001B[38;5;241m=\u001B[39mignore_missing_simple,\n\u001B[0;32m    483\u001B[0m         lazy_load_hdus\u001B[38;5;241m=\u001B[39mlazy_load_hdus,\n\u001B[0;32m    484\u001B[0m         \u001B[38;5;241m*\u001B[39m\u001B[38;5;241m*\u001B[39mkwargs,\n\u001B[0;32m    485\u001B[0m     )\n",
      "File \u001B[1;32m~\\anaconda3\\Lib\\site-packages\\astropy\\io\\fits\\hdu\\hdulist.py:1146\u001B[0m, in \u001B[0;36mHDUList._readfrom\u001B[1;34m(cls, fileobj, data, mode, memmap, cache, lazy_load_hdus, ignore_missing_simple, use_fsspec, fsspec_kwargs, **kwargs)\u001B[0m\n\u001B[0;32m   1143\u001B[0m \u001B[38;5;28;01mif\u001B[39;00m fileobj \u001B[38;5;129;01mis\u001B[39;00m \u001B[38;5;129;01mnot\u001B[39;00m \u001B[38;5;28;01mNone\u001B[39;00m:\n\u001B[0;32m   1144\u001B[0m     \u001B[38;5;28;01mif\u001B[39;00m \u001B[38;5;129;01mnot\u001B[39;00m \u001B[38;5;28misinstance\u001B[39m(fileobj, _File):\n\u001B[0;32m   1145\u001B[0m         \u001B[38;5;66;03m# instantiate a FITS file object (ffo)\u001B[39;00m\n\u001B[1;32m-> 1146\u001B[0m         fileobj \u001B[38;5;241m=\u001B[39m _File(\n\u001B[0;32m   1147\u001B[0m             fileobj,\n\u001B[0;32m   1148\u001B[0m             mode\u001B[38;5;241m=\u001B[39mmode,\n\u001B[0;32m   1149\u001B[0m             memmap\u001B[38;5;241m=\u001B[39mmemmap,\n\u001B[0;32m   1150\u001B[0m             cache\u001B[38;5;241m=\u001B[39mcache,\n\u001B[0;32m   1151\u001B[0m             use_fsspec\u001B[38;5;241m=\u001B[39muse_fsspec,\n\u001B[0;32m   1152\u001B[0m             fsspec_kwargs\u001B[38;5;241m=\u001B[39mfsspec_kwargs,\n\u001B[0;32m   1153\u001B[0m         )\n\u001B[0;32m   1154\u001B[0m     \u001B[38;5;66;03m# The Astropy mode is determined by the _File initializer if the\u001B[39;00m\n\u001B[0;32m   1155\u001B[0m     \u001B[38;5;66;03m# supplied mode was None\u001B[39;00m\n\u001B[0;32m   1156\u001B[0m     mode \u001B[38;5;241m=\u001B[39m fileobj\u001B[38;5;241m.\u001B[39mmode\n",
      "File \u001B[1;32m~\\anaconda3\\Lib\\site-packages\\astropy\\io\\fits\\file.py:217\u001B[0m, in \u001B[0;36m_File.__init__\u001B[1;34m(self, fileobj, mode, memmap, overwrite, cache, use_fsspec, fsspec_kwargs)\u001B[0m\n\u001B[0;32m    215\u001B[0m     \u001B[38;5;28mself\u001B[39m\u001B[38;5;241m.\u001B[39m_open_fileobj(fileobj, mode, overwrite)\n\u001B[0;32m    216\u001B[0m \u001B[38;5;28;01melif\u001B[39;00m \u001B[38;5;28misinstance\u001B[39m(fileobj, (\u001B[38;5;28mstr\u001B[39m, \u001B[38;5;28mbytes\u001B[39m)):\n\u001B[1;32m--> 217\u001B[0m     \u001B[38;5;28mself\u001B[39m\u001B[38;5;241m.\u001B[39m_open_filename(fileobj, mode, overwrite)\n\u001B[0;32m    218\u001B[0m \u001B[38;5;28;01melse\u001B[39;00m:\n\u001B[0;32m    219\u001B[0m     \u001B[38;5;28mself\u001B[39m\u001B[38;5;241m.\u001B[39m_open_filelike(fileobj, mode, overwrite)\n",
      "File \u001B[1;32m~\\anaconda3\\Lib\\site-packages\\astropy\\io\\fits\\file.py:626\u001B[0m, in \u001B[0;36m_File._open_filename\u001B[1;34m(self, filename, mode, overwrite)\u001B[0m\n\u001B[0;32m    623\u001B[0m ext \u001B[38;5;241m=\u001B[39m os\u001B[38;5;241m.\u001B[39mpath\u001B[38;5;241m.\u001B[39msplitext(\u001B[38;5;28mself\u001B[39m\u001B[38;5;241m.\u001B[39mname)[\u001B[38;5;241m1\u001B[39m]\n\u001B[0;32m    625\u001B[0m \u001B[38;5;28;01mif\u001B[39;00m \u001B[38;5;129;01mnot\u001B[39;00m \u001B[38;5;28mself\u001B[39m\u001B[38;5;241m.\u001B[39m_try_read_compressed(\u001B[38;5;28mself\u001B[39m\u001B[38;5;241m.\u001B[39mname, magic, mode, ext\u001B[38;5;241m=\u001B[39mext):\n\u001B[1;32m--> 626\u001B[0m     \u001B[38;5;28mself\u001B[39m\u001B[38;5;241m.\u001B[39m_file \u001B[38;5;241m=\u001B[39m \u001B[38;5;28mopen\u001B[39m(\u001B[38;5;28mself\u001B[39m\u001B[38;5;241m.\u001B[39mname, IO_FITS_MODES[mode])\n\u001B[0;32m    627\u001B[0m     \u001B[38;5;28mself\u001B[39m\u001B[38;5;241m.\u001B[39mclose_on_error \u001B[38;5;241m=\u001B[39m \u001B[38;5;28;01mTrue\u001B[39;00m\n\u001B[0;32m    629\u001B[0m \u001B[38;5;66;03m# Make certain we're back at the beginning of the file\u001B[39;00m\n\u001B[0;32m    630\u001B[0m \u001B[38;5;66;03m# BZ2File does not support seek when the file is open for writing, but\u001B[39;00m\n\u001B[0;32m    631\u001B[0m \u001B[38;5;66;03m# when opening a file for write, bz2.BZ2File always truncates anyway.\u001B[39;00m\n",
      "\u001B[1;31mFileNotFoundError\u001B[0m: [Errno 2] No such file or directory: 'Reynier files/arcturus_wl.fits'"
     ]
    }
   ],
   "execution_count": 45
  },
  {
   "metadata": {},
   "cell_type": "code",
   "source": [
    "x_range = np.arange(1, dat.size+1)\n",
    "\n",
    "# dat_smooth=alsbaseline(dat, remove=False)[200:]\n",
    "dat_smooth=dat\n",
    "x_range=x_range\n",
    "\n",
    "# fitting the 1st peak\n",
    "beta, pcov1 = curve_fit(f_gaussian, x_range[250:600], dat_smooth[250:600], p0=(-1, 450, 5, 1)) \n",
    "#amp, mu, sigma, zero\n",
    "\n",
    "print(beta)\n",
    "\n",
    "a1,m1,s1,z1=beta\n",
    "\n",
    "\n",
    "fig=figure()\n",
    "frame=fig.add_subplot(1,1,1)\n",
    "frame.scatter(x_range,dat_smooth,color=\"royalblue\", label=\"Arcturus spectrum\",s=1)\n",
    "frame.plot(f_gaussian(x_range,a1,m1,s1,z1),color=\"paleturquoise\", label=\"fit for the 1st peak\")\n",
    "frame.set_title(\"Arcturus: 1st peak fitted\")\n",
    "frame.grid(alpha=0.2)\n",
    "frame.legend()\n",
    "show()\n",
    "close(fig)"
   ],
   "id": "831cb68c7e1295a8",
   "outputs": [],
   "execution_count": null
  },
  {
   "metadata": {
    "ExecuteTime": {
     "end_time": "2024-06-11T16:08:36.809531Z",
     "start_time": "2024-06-11T16:08:36.688386Z"
    }
   },
   "cell_type": "code",
   "source": [
    "\n",
    "fig=figure()\n",
    "frame=fig.add_subplot(1,1,1)\n",
    "frame.scatter(x_range,dat_smooth,color=\"royalblue\", label=\"Arcturus spectrum\",s=1)\n",
    "frame.plot(f_gaussian(x_range,a1,m1,s1,z1),color=\"paleturquoise\", label=\"fit for the 1st peak\")\n",
    "frame.set_title(\"Arcturus: 1st peak fitted\")\n",
    "frame.grid(alpha=0.2)\n",
    "frame.legend()\n",
    "show()\n",
    "close(fig)"
   ],
   "id": "51d91f5fb25574ef",
   "outputs": [
    {
     "ename": "NameError",
     "evalue": "name 'x_range' is not defined",
     "output_type": "error",
     "traceback": [
      "\u001B[1;31m---------------------------------------------------------------------------\u001B[0m",
      "\u001B[1;31mNameError\u001B[0m                                 Traceback (most recent call last)",
      "Cell \u001B[1;32mIn[46], line 3\u001B[0m\n\u001B[0;32m      1\u001B[0m fig\u001B[38;5;241m=\u001B[39mfigure()\n\u001B[0;32m      2\u001B[0m frame\u001B[38;5;241m=\u001B[39mfig\u001B[38;5;241m.\u001B[39madd_subplot(\u001B[38;5;241m1\u001B[39m,\u001B[38;5;241m1\u001B[39m,\u001B[38;5;241m1\u001B[39m)\n\u001B[1;32m----> 3\u001B[0m frame\u001B[38;5;241m.\u001B[39mscatter(x_range,dat_smooth,color\u001B[38;5;241m=\u001B[39m\u001B[38;5;124m\"\u001B[39m\u001B[38;5;124mroyalblue\u001B[39m\u001B[38;5;124m\"\u001B[39m, label\u001B[38;5;241m=\u001B[39m\u001B[38;5;124m\"\u001B[39m\u001B[38;5;124mArcturus spectrum\u001B[39m\u001B[38;5;124m\"\u001B[39m,s\u001B[38;5;241m=\u001B[39m\u001B[38;5;241m1\u001B[39m)\n\u001B[0;32m      4\u001B[0m frame\u001B[38;5;241m.\u001B[39mplot(f_gaussian(x_range,a1,m1,s1,z1),color\u001B[38;5;241m=\u001B[39m\u001B[38;5;124m\"\u001B[39m\u001B[38;5;124mpaleturquoise\u001B[39m\u001B[38;5;124m\"\u001B[39m, label\u001B[38;5;241m=\u001B[39m\u001B[38;5;124m\"\u001B[39m\u001B[38;5;124mfit for the 1st peak\u001B[39m\u001B[38;5;124m\"\u001B[39m)\n\u001B[0;32m      5\u001B[0m frame\u001B[38;5;241m.\u001B[39mset_title(\u001B[38;5;124m\"\u001B[39m\u001B[38;5;124mArcturus: 1st peak fitted\u001B[39m\u001B[38;5;124m\"\u001B[39m)\n",
      "\u001B[1;31mNameError\u001B[0m: name 'x_range' is not defined"
     ]
    },
    {
     "data": {
      "text/plain": [
       "<Figure size 640x480 with 1 Axes>"
      ],
      "image/png": "[encoded data removed]"
     },
     "metadata": {},
     "output_type": "display_data"
    }
   ],
   "execution_count": 46
  },
  {
   "metadata": {},
   "cell_type": "code",
   "source": [
    "# questionably short\n",
    "\n",
    "#fitting the last peak\n",
    "beta, pcov5 = curve_fit(f_gaussian, x_range, dat_smooth, p0=(-0.4, 1900, 50, 1.1))\n",
    "a5,m5,s5,z5=beta\n",
    "z = np.mean([z1,z5])\n",
    "\n",
    "f_composed = f_gaussian(x_range,a1,m1,s1,z)+f_gaussian(x_range,a5,m5,s5,0)\n",
    "fig=figure()\n",
    "frame=fig.add_subplot(1,1,1)\n",
    "frame.scatter(x_range,dat_smooth,color=\"royalblue\", label=\"Arcturus spectrum\",s=1)\n",
    "frame.plot(f_composed,color=\"paleturquoise\", label=\"Gaussian fit\")\n",
    "frame.set_title(\"Arcturus: peaks fitted\")\n",
    "frame.grid(alpha=0.2)\n",
    "frame.legend()\n",
    "show()\n",
    "close(fig)"
   ],
   "id": "6a277b7ca653d554",
   "outputs": [],
   "execution_count": null
  },
  {
   "metadata": {},
   "cell_type": "code",
   "source": [
    "def f_superb(x,a1,m1,s1, a5,m5,s5, a,b,z):\n",
    "    \"\"\"Returns a combination of 2 Gaussians plotted on an exponential\"\"\"\n",
    "    gaussian1 = a1 * np.exp(-(x - m1) ** 2 / (2.0 * s1 ** 2))\n",
    "    gaussian2 = a5 * np.exp(-(x - m5) ** 2 / (2.0 * s5 ** 2))\n",
    "    exponential = a * np.exp(b * x) + z\n",
    "    return gaussian1 + gaussian2 + exponential\n",
    "\n",
    "beta, pcov_exp = curve_fit(f_exp,x_range,dat_smooth,p0=(1,0.0001,1))\n",
    "print(beta)\n",
    "exp_a,exp_b,exp_z = beta\n",
    "\n",
    "fig=figure()\n",
    "frame=fig.add_subplot(1,1,1)\n",
    "frame.scatter(x_range,dat,color=\"royalblue\", label=\"Arcturus spectrum\",s=1)\n",
    "frame.plot(x_range,f_exp(x_range,exp_a,exp_b,exp_z),color=\"paleturquoise\", label=\"Gaussian fit\")\n",
    "frame.set_title(\"Arcturus: exponential fitted\")\n",
    "frame.grid(alpha=0.2)\n",
    "frame.legend()\n",
    "show()\n",
    "close(fig)\n",
    "\n"
   ],
   "id": "c97876c2651b5ec1",
   "outputs": [],
   "execution_count": null
  },
  {
   "metadata": {},
   "cell_type": "code",
   "source": [
    "D1=np.array([a1,m1,s1])\n",
    "D5=np.array([a5,m5,s5])\n",
    "D_exp=np.array([exp_a,exp_b,1])\n",
    "\n",
    "# fitting again to the superb function\n",
    "\n",
    "beta,pcov =curve_fit(f_superb, x_range, dat_smooth, p0=np.concatenate([D1, D5, D_exp]))\n",
    "np.concatenate([D1, D5, D_exp])\n",
    "a1,m1,s1,a5,m5,s5,a,b,z=beta\n",
    "print(beta)\n",
    "\n",
    "#printing the final fit\n",
    "\n",
    "fig=figure()\n",
    "frame=fig.add_subplot(1,1,1)\n",
    "frame.scatter(x_range,dat_smooth,color=\"royalblue\", label=\"Arcturus spectrum\",s=1)\n",
    "frame.plot(x_range,f_superb(x_range,a1,m1,s1,a5,m5,s5,exp_a,exp_b,exp_z),color=\"paleturquoise\", label=\"Gaussian fit\")\n",
    "frame.set_title(\"Arcturus: 2 peaks fitted\")\n",
    "frame.grid(alpha=0.2)\n",
    "frame.legend()\n",
    "show()\n",
    "close(fig)"
   ],
   "id": "f784f928acd64cc3",
   "outputs": [],
   "execution_count": null
  },
  {
   "metadata": {},
   "cell_type": "code",
   "source": [
    "# a function for multiple exponentials\n",
    "\n",
    "def f_superior(x, *params):\n",
    "    \"\"\"Returns a combination of multiple Gaussians plotted on an exponential\"\"\"\n",
    "    num_gaussians = (len(params) - 3) // 3\n",
    "    y = np.zeros_like(x, dtype=float) #it was having some weird type issues\n",
    "    for i in range(num_gaussians):\n",
    "        a = params[3 * i]\n",
    "        m = params[3 * i + 1]\n",
    "        s = params[3 * i + 2]\n",
    "        y += a * np.exp(-(x - m) ** 2 / (2.0 * s ** 2))\n",
    "    # exponential part\n",
    "    exp_a, exp_b, exp_z = params[-3:]\n",
    "    y += exp_a * np.exp(exp_b * x) + exp_z\n",
    "    return y\n",
    "\n",
    "initial_gaussians = [D1, D5] # more will be added as needed\n",
    "initial_guess = [item for sublist in initial_gaussians for item in sublist] + [exp_a, exp_b, exp_z] # flattening the initial guesses for curve_fit\n",
    "\n",
    "beta, pcov = curve_fit(f_superior, x_range, dat_smooth, p0=initial_guess)\n",
    "\n",
    "# extracting the fitted parameters\n",
    "num_gaussians = len(initial_gaussians)\n",
    "gaussian_params = beta[:num_gaussians * 3].reshape((num_gaussians, 3))\n",
    "exp_params = beta[num_gaussians * 3:]\n",
    "print(\"Gaussian parameters:\", gaussian_params)\n",
    "print(\"Exponential parameters:\", exp_params)\n",
    "\n",
    "# plotting the final fit\n",
    "fig = figure()\n",
    "frame = fig.add_subplot(1, 1, 1)\n",
    "frame.scatter(x_range, dat_smooth, color=\"royalblue\", label=\"Arcturus spectrum\", s=1)\n",
    "frame.plot(x_range, f_superior(x_range, *beta), color=\"paleturquoise\", label=\"Gaussian fit\")\n",
    "frame.set_title(\"Arcturus: peaks fitted\")\n",
    "frame.grid(alpha=0.2)\n",
    "frame.legend()\n",
    "show()\n",
    "close(fig)"
   ],
   "id": "ba663904615ad3bd",
   "outputs": [],
   "execution_count": null
  },
  {
   "metadata": {},
   "cell_type": "code",
   "source": [
    "D2=np.array([-0.1,1050,5])\n",
    "D3 = np.array([-0.1,1350,20])\n",
    "D4 = np.array([-0.15,1600,10])\n",
    "\n",
    "initial_gaussians = [D1,D2,D3,D4, D5]\n",
    "initial_guess = [item for sublist in initial_gaussians for item in sublist] + [exp_a, exp_b, exp_z]\n",
    "\n",
    "beta, pcov = curve_fit(f_superior, x_range, dat_smooth, p0=initial_guess)\n",
    "print(\"Parameters:\", beta) #it's not printing the figure if i remove this line, no idea why\n",
    "\n",
    "# extracting the fitted parameters\n",
    "num_gaussians = len(initial_gaussians)\n",
    "gaussian_params = beta[:num_gaussians * 3].reshape((num_gaussians, 3))\n",
    "exp_params = beta[num_gaussians * 3:]\n",
    "\n",
    "# poor attempt at error analysis\n",
    "# gaussian_params_err = pcov[:num_gaussians * 3].reshape((num_gaussians, 3))\n",
    "# exp_params_err = pcov[num_gaussians * 3:]\n",
    "err=np.sqrt(np.diag(pcov))\n",
    "fwhm_err=2*err[2]*np.sqrt(2*np.log(2))\n",
    "\n",
    "print(\"Gaussian parameters:\", gaussian_params)\n",
    "print(\"Exponential parameters:\", exp_params)\n",
    "\n",
    "# plotting the final fit\n",
    "fig = figure()\n",
    "frame = fig.add_subplot(1, 1, 1)\n",
    "frame.scatter(x_range, dat_smooth, color=\"royalblue\", label=\"Arcturus spectrum\", s=1)\n",
    "frame.plot(x_range, f_superior(x_range, *beta), color=\"paleturquoise\", label=\"Gaussian fit\")\n",
    "frame.set_title(\"Arcturus: peaks fitted\")\n",
    "frame.grid(alpha=0.2)\n",
    "frame.legend()\n",
    "show()\n",
    "close(fig)"
   ],
   "id": "110a2d2983174da8",
   "outputs": [],
   "execution_count": null
  },
  {
   "metadata": {},
   "cell_type": "code",
   "source": [
    "# for Peak in gaussian_params:\n",
    "#     fwhm,fwhm_err=fwhm_calculator(Peak[2],pcov)\n",
    "#     fwhm=2*sigma*np.sqrt(2*np.log(2))\n",
    "    \n",
    "FWHM = np.array([2*np.abs(Peak[2])*np.sqrt(2*np.log(2)) for Peak in gaussian_params])\n",
    "print(FWHM)\n",
    "\n",
    "c=0\n",
    "for Peak in gaussian_params:\n",
    "    print(f\"Peak {c} equivalent width: {FWHM[c]}\")\n",
    "    c+=1\n",
    "\n",
    "print(f\"Error in FWHMs: {fwhm_err}\")\n",
    "\n",
    "x_range_a = 1.217*x_range + 7060\n",
    "\n",
    "fig=figure(figsize=(8,6))\n",
    "frame=fig.add_subplot(1,1,1)\n",
    "frame.scatter(x_range_a,dat_smooth, color=\"royalblue\", label=\"Arcturus spectrum\",s=1)\n",
    "frame.plot(x_range_a,f_superior(x_range, *beta),color=\"paleturquoise\", label=\"fit for the 1st peak\")\n",
    "\n",
    "p=0\n",
    "for Peak in gaussian_params:\n",
    "    a,m,s=Peak\n",
    "    f=FWHM[p]\n",
    "    fwhm_x=np.array((m-f/2,m+f/2))\n",
    "    \n",
    "    # getting the exponential fit data to know the y-coordinates of FWHM plot\n",
    "    exp_a,exp_b,exp_z=exp_params\n",
    "    z=f_exp(m,exp_a,exp_b,exp_z)    \n",
    "    \n",
    "    fwhm_y=np.array((a/2+z,a/2+z))\n",
    "    \n",
    "    frame.plot(1.217*fwhm_x + 7060,fwhm_y,color=\"green\", label=f\"FWHM for peak {p}\")\n",
    "    p+=1\n",
    "    \n",
    "frame.set_title(\"Arcturus: peaks fitted\")\n",
    "frame.grid(alpha=0.2)\n",
    "frame.set_ylabel(\"Intensity w.r.t the norm\")\n",
    "frame.set_xlabel(\"Wavelength [Angstroms]\")\n",
    "frame.legend(fontsize=7)\n",
    "show()\n",
    "close(fig)\n"
   ],
   "id": "55b46528ef466055",
   "outputs": [],
   "execution_count": null
  },
  {
   "metadata": {},
   "cell_type": "code",
   "source": [
    "# getting the MILES ccomparison spectrum for Arcturus\n",
    "\n",
    "hdulist = fits.open('miles spectra/arcturus_miles.fits')\n",
    "hdulist.info()\n",
    "print()\n",
    "\n",
    "hdr = hdulist[0].header\n",
    "dat = hdulist[0].data\n",
    "print(f\"data shape: {dat.shape}\")\n",
    "arcturus_miles = dat[0,:]\n",
    "\n",
    "fig=figure()\n",
    "frame=fig.add_subplot(1,1,1)\n",
    "frame.plot(arcturus_miles,color=\"navy\", label=\"Vega spectrum\")\n",
    "frame.set_title(\"Arcturus-like (K1.3) star spectrum from MILES\")\n",
    "frame.grid(alpha=0.2)\n",
    "show()\n",
    "close(fig)"
   ],
   "id": "60a48ddece9fb1d8",
   "outputs": [],
   "execution_count": null
  },
  {
   "metadata": {},
   "cell_type": "code",
   "source": "",
   "id": "696e4e96c45a572f",
   "outputs": [],
   "execution_count": null
  }
 ],
 "metadata": {
  "kernelspec": {
   "display_name": "Python 3",
   "language": "python",
   "name": "python3"
  },
  "language_info": {
   "codemirror_mode": {
    "name": "ipython",
    "version": 2
   },
   "file_extension": ".py",
   "mimetype": "text/x-python",
   "name": "python",
   "nbconvert_exporter": "python",
   "pygments_lexer": "ipython2",
   "version": "2.7.6"
  }
 },
 "nbformat": 4,
 "nbformat_minor": 5
}
