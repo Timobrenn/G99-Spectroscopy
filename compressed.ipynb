{
 "cells": [
  {
   "cell_type": "code",
   "execution_count": 2,
   "id": "initial_id",
   "metadata": {
    "collapsed": true,
    "ExecuteTime": {
     "end_time": "2024-06-21T14:24:38.241236800Z",
     "start_time": "2024-06-21T14:24:37.981217800Z"
    }
   },
   "outputs": [],
   "source": [
    "import numpy as np\n",
    "from matplotlib.pyplot import subplots, show\n",
    "from spectrapepper import alsbaseline"
   ]
  },
  {
   "cell_type": "code",
   "execution_count": 9,
   "outputs": [],
   "source": [
    "VEGA_DIR = './Final_data/corrected/Vega_response_corrected.txt'\n",
    "MOON_DIR = './Final_data/corrected/Moon_response_corrected.txt'\n",
    "ARCTURUS_DIR = './Final_data/corrected/Arcturus_response_corrected.txt'\n",
    "REGULUS_DIR = './Final_data/corrected/Regulus_response_corrected.txt'"
   ],
   "metadata": {
    "collapsed": false,
    "ExecuteTime": {
     "end_time": "2024-06-21T14:31:06.011383800Z",
     "start_time": "2024-06-21T14:31:06.002387400Z"
    }
   },
   "id": "cdd10935a6bff1bf"
  },
  {
   "cell_type": "code",
   "execution_count": 10,
   "outputs": [],
   "source": [
    "%matplotlib qt"
   ],
   "metadata": {
    "collapsed": false,
    "ExecuteTime": {
     "end_time": "2024-06-21T14:31:15.620110300Z",
     "start_time": "2024-06-21T14:31:14.278007700Z"
    }
   },
   "id": "1ef6f6d4e894d717"
  },
  {
   "cell_type": "code",
   "execution_count": 3,
   "outputs": [],
   "source": [
    "def deriv(data: list, iterations: int = 1):\n",
    "    \"\"\"\n",
    "    :param data: list containing curve to take the derivative from \n",
    "    :param iterations: the amount of times the derivative will be taken\n",
    "    :return: returns the curve after taking iteration'th derivative  \n",
    "    \"\"\"\n",
    "    if not isinstance(iterations, int):\n",
    "        raise ValueError('iterations should be integer value')\n",
    "\n",
    "    out = []\n",
    "    out.append((data[1] - data[0]))\n",
    "    for i in range(1, len(data) - 1):\n",
    "        area_slope = ((data[i + 1] - data[i]) + (data[i] - data[i - 1])) / 2\n",
    "        out.append(area_slope)\n",
    "    out.append((data[-1] - data[-2]))\n",
    "    iterations -= 1\n",
    "    if iterations > 0:\n",
    "        out = deriv(out, iterations)\n",
    "    return np.array(out)\n",
    "\n",
    "\n",
    "def get_peak_locations(data, edge_padding=1):\n",
    "    \"\"\"\n",
    "    :param data: Curve to take the peak locations from \n",
    "    :param edge_padding: How many datapoints on the edges of the curve above the threshold should be ignored\n",
    "    :return: returns tuple of (x, y) where x is the peak location and y is the height (y value) of the curve\n",
    "    \"\"\"\n",
    "    array = data.copy()\n",
    "    sectors = get_peak_sectors(array)\n",
    "    peaks = []\n",
    "    for left, right in sectors:\n",
    "        min, max = None, None\n",
    "        argmax = array[left:right].argmax() + left\n",
    "        argmin = array[left:right].argmin() + left\n",
    "        if not (argmin <= left + edge_padding or argmin >= right - edge_padding):\n",
    "            valmin = array[left:right].min()\n",
    "            min = (argmin, valmin)\n",
    "            peaks.append(min)\n",
    "        if not (argmax <= left + edge_padding or argmax >= right - edge_padding):\n",
    "            valmax = array[left:right].max()\n",
    "            max = (argmax, valmax)\n",
    "            peaks.append(max)\n",
    "        del argmax, argmin, min, max\n",
    "    return peaks\n",
    "\n",
    "\n",
    "def get_peak_sectors(array):\n",
    "    \"\"\"\n",
    "    :param array: Curve to be cut up into pieces containing peaks. Separate peak regions by sections of numpy's NaN value\n",
    "    :return: list of indexes where the numeric values begin and end\n",
    "    \"\"\"\n",
    "    was_nan = True\n",
    "    start = 0\n",
    "    sectors = []\n",
    "    for i, element in enumerate(array):\n",
    "        is_nan = np.isnan(element)\n",
    "        if not is_nan and was_nan:\n",
    "            was_nan = False\n",
    "            start = i\n",
    "        elif is_nan and not was_nan:\n",
    "            was_nan = True\n",
    "            sectors.append([start, i])\n",
    "            del start\n",
    "    if not was_nan:\n",
    "        sectors.append([start, len(array)])\n",
    "    return sectors\n",
    "\n",
    "\n",
    "def exclude(data, value, baseline=0, invert=False):\n",
    "    \"\"\"\n",
    "    :param data: Curve from which to exclude sections \n",
    "    :param value: Value surrounding the baseline where the data is to be included/excluded depending on the invert kwarg (exclusion done by replacing the excluded point by NaN)\n",
    "    :param baseline: Value around which to do the exclusion process\n",
    "    :param invert: whether you want the section inside the cut-off line or outside the cut of line to be replaced with NaN's\n",
    "    :return: returns the curve with the excluded sections replaced with NaN\n",
    "    \"\"\"\n",
    "    dat = data.copy()\n",
    "    value = np.abs(value)\n",
    "    if not invert:\n",
    "        excluded_array = np.where(np.abs(dat) < (baseline + value), np.nan, dat)\n",
    "    else:\n",
    "        excluded_array = np.where(np.abs(dat) > (baseline + value), np.nan, dat)\n",
    "    return excluded_array"
   ],
   "metadata": {
    "collapsed": false,
    "ExecuteTime": {
     "end_time": "2024-06-21T14:24:38.850282800Z",
     "start_time": "2024-06-21T14:24:38.013221800Z"
    }
   },
   "id": "2ef54b0348106dd5"
  },
  {
   "cell_type": "code",
   "execution_count": 4,
   "outputs": [],
   "source": [
    "\n",
    "def process_peaks(raw_data, smoothed=True, deriv_count=2, thres_percent=1.5, power=3, normalise=True, name=''):\n",
    "    \"\"\"\n",
    "    Complete process of getting the peak locations\n",
    "    :param raw_data: Data to be processed for peaks (1d curve in np.array form)\n",
    "    :param smoothed: Whether the processing should include smoothing or not (set False if your input is already smoothed)\n",
    "    :param deriv_count: How many times the derivative should be taken, defaults to 2\n",
    "    :param thres_percent: The percentile to be discarded (defaults to 1.5)\n",
    "    :param power: The factor the peaks are to be taken to the power off for separating noise from data\n",
    "    :param normalise: Whether the data should be normalized (divided by the highest value in the curve)\n",
    "    :param name: Name of the object to be displayed in graphs\n",
    "    :return: returns the peaks of the submitted curve\n",
    "    \"\"\"\n",
    "    if smoothed:\n",
    "        data = alsbaseline(raw_data, lam=100, remove=False, niter=2)\n",
    "    else:\n",
    "        data = raw_data\n",
    "\n",
    "    if deriv_count > 0:\n",
    "        derivative = deriv(data, deriv_count)\n",
    "        derivative_adjusted = derivative ** power\n",
    "    else:\n",
    "        derivative_adjusted = data\n",
    "    if normalise:\n",
    "        if np.abs(derivative_adjusted.max()) > np.abs(derivative_adjusted.min()):\n",
    "            derivative_adjusted /= derivative_adjusted.max()\n",
    "        else:\n",
    "            derivative_adjusted /= derivative_adjusted.min()\n",
    "    else:\n",
    "        if np.abs(derivative_adjusted.max()) < np.abs(derivative_adjusted.min()):\n",
    "            derivative_adjusted *= -1\n",
    "\n",
    "    threshold = np.percentile(derivative_adjusted, thres_percent)\n",
    "    excluded_data = exclude(derivative_adjusted, threshold)\n",
    "    peaks = get_peak_locations(excluded_data)\n",
    "    sorted_peaks = peaks.copy()\n",
    "    sorted_peaks.sort(key=lambda x: x[1], reverse=True)\n",
    "\n",
    "    norm_curv = data / data.max()\n",
    "\n",
    "    fig, ax = subplots()\n",
    "    fig.suptitle(f'Peakfinding visualisation {name}')\n",
    "    ax.set_xlabel('datapoint index')\n",
    "    ax.set_ylabel('normalised \"acceleration\"')\n",
    "    ax.plot(norm_curv, alpha=0.7, linestyle='--', color='navy', label=f'{name} (smooth)')\n",
    "    ax.scatter(*zip(*peaks), c='r', s=5, label='peaks')\n",
    "    ax.plot(derivative_adjusted, alpha=0.6, label='cubed derivative')\n",
    "    ax.axhline(y=threshold, color='y', label='threshold')\n",
    "    ax.axhline(y=-threshold, color='y')\n",
    "    ax.legend(loc='upper right')\n",
    "    ax.grid(alpha=0.6)\n",
    "    show()\n",
    "    return peaks"
   ],
   "metadata": {
    "collapsed": false,
    "ExecuteTime": {
     "end_time": "2024-06-21T14:24:38.854281600Z",
     "start_time": "2024-06-21T14:24:38.223236100Z"
    }
   },
   "id": "ce5f5195bce05dd3"
  },
  {
   "cell_type": "code",
   "execution_count": 5,
   "outputs": [],
   "source": [
    "def spectra_picker(index):\n",
    "    \"\"\"\n",
    "    :param index: ranging from 0 to 3 representing the object which data should be returned  \n",
    "    :return: The raw data of the selected object\n",
    "    \"\"\"\n",
    "    if index == 0:\n",
    "        raw = np.loadtxt(VEGA_DIR)\n",
    "    elif index == 1:\n",
    "        raw = np.loadtxt(ARCTURUS_DIR)\n",
    "    elif index == 2:\n",
    "        raw = np.loadtxt(REGULUS_DIR)\n",
    "    elif index == 3:\n",
    "        raw = np.loadtxt(MOON_DIR)\n",
    "    else:\n",
    "        raise IndexError\n",
    "    return raw\n",
    "\n",
    "\n",
    "def peak_functionality(name, data, smooth_data):\n",
    "    \"\"\"\n",
    "    :param name: Name of the object to be used for plotting and subfunctions\n",
    "    :param data: Curve to be processed\n",
    "    :param smooth_data: Curve but smoothed\n",
    "    :return: None\n",
    "    \"\"\"\n",
    "    fig, ax = subplots()\n",
    "    ax.set_title(f'{name} spectra raw vs smoothed')\n",
    "    ax.plot(data, label=f'{name} data raw')\n",
    "    ax.plot(smooth_data, label=f'{name} data smoothed')\n",
    "    ax.set_xlabel('pixel index')\n",
    "    ax.set_ylabel('Flux')\n",
    "    ax.legend()\n",
    "    ax.grid()\n",
    "    show()\n",
    "\n",
    "    threshold = {'Arcturus': 10, \"Vega\": 4, \"Regulus\": 2, \"Moon\": 8}\n",
    "    # arcturus: thresh_percent = 10 (for most visible peaks)\n",
    "    # vega: thresh_percent = 4 (for 3 main peaks)\n",
    "    # regulus: thresh_percent = 2\n",
    "    # moon: thresh_percent = 2\n",
    "\n",
    "    rough_peaks = process_peaks(smooth_data, thres_percent=threshold[name], smoothed=False, name=name)\n",
    "    positive_peaks = [peak for peak in rough_peaks if peak[1] > 0]\n",
    "\n",
    "    fig, ax = subplots()\n",
    "    ax.set_title(f'{name} data with peaks')\n",
    "    ax.plot(data, c='navy', alpha=0.6, label=f'{name} raw data')\n",
    "    for x, _ in positive_peaks:\n",
    "        y = data[x]\n",
    "        ax.scatter(x, y, s=20, c='r')\n",
    "    ax.scatter(x, y, s=20, c='r', label='Peaks')\n",
    "    ax.legend()\n",
    "    ax.grid(alpha=0.6)\n",
    "    ax.set_xlabel('datapoint index')\n",
    "    ax.set_ylabel('intensity [counts]')\n",
    "    show()"
   ],
   "metadata": {
    "collapsed": false,
    "ExecuteTime": {
     "end_time": "2024-06-21T14:24:38.855281200Z",
     "start_time": "2024-06-21T14:24:38.260238200Z"
    }
   },
   "id": "7f91c4c2bb5dc595"
  },
  {
   "cell_type": "code",
   "execution_count": 7,
   "outputs": [],
   "source": [
    "def run_peakfinding():\n",
    "    \"\"\"Runs the peakfinding algorithm\"\"\"\n",
    "    objects = ['Arcturus', 'Vega', 'Regulus', 'Moon']\n",
    "    for i in range(len(objects)):\n",
    "        raw = spectra_picker(i)\n",
    "        smooth = alsbaseline(raw, lam=50, niter=5, remove=False)\n",
    "        peak_functionality(objects[i], smooth)"
   ],
   "metadata": {
    "collapsed": false,
    "ExecuteTime": {
     "end_time": "2024-06-21T14:26:53.028148100Z",
     "start_time": "2024-06-21T14:26:53.024147400Z"
    }
   },
   "id": "43e9933fd7f103e1"
  }
 ],
 "metadata": {
  "kernelspec": {
   "display_name": "Python 3",
   "language": "python",
   "name": "python3"
  },
  "language_info": {
   "codemirror_mode": {
    "name": "ipython",
    "version": 2
   },
   "file_extension": ".py",
   "mimetype": "text/x-python",
   "name": "python",
   "nbconvert_exporter": "python",
   "pygments_lexer": "ipython2",
   "version": "2.7.6"
  }
 },
 "nbformat": 4,
 "nbformat_minor": 5
}
