{
 "cells": [
  {
   "cell_type": "code",
   "execution_count": 1,
   "outputs": [
    {
     "name": "stdout",
     "output_type": "stream",
     "text": [
      "Skipping fitsfolder\\arcturus.png\n",
      "Skipping fitsfolder\\fibres.png\n",
      "[<g99.sub.fitsmanager.Hdu object at 0x0000024465E164C0>, <g99.sub.fitsmanager.Hdu object at 0x0000024465E166D0>, <g99.sub.fitsmanager.Hdu object at 0x0000024467687C10>, <g99.sub.fitsmanager.Hdu object at 0x0000024467687CD0>, <g99.sub.fitsmanager.Hdu object at 0x00000244676ACDF0>, <g99.sub.fitsmanager.Hdu object at 0x00000244676BB910>, <g99.sub.fitsmanager.Hdu object at 0x00000244676BB7C0>, <g99.sub.fitsmanager.Hdu object at 0x00000244676C8F10>, <g99.sub.fitsmanager.Hdu object at 0x00000244676C8DC0>, <g99.sub.fitsmanager.Hdu object at 0x00000244676D8CD0>, <g99.sub.fitsmanager.Hdu object at 0x00000244676E17F0>, <g99.sub.fitsmanager.Hdu object at 0x00000244676E16A0>, <g99.sub.fitsmanager.Hdu object at 0x00000244676E17C0>, <g99.sub.fitsmanager.Hdu object at 0x00000244676ED310>, <g99.sub.fitsmanager.Hdu object at 0x00000244676FABB0>, <g99.sub.fitsmanager.Hdu object at 0x00000244677076D0>, <g99.sub.fitsmanager.Hdu object at 0x0000024467707580>, <g99.sub.fitsmanager.Hdu object at 0x00000244676FAD60>, <g99.sub.fitsmanager.Hdu object at 0x0000024467715D60>, <g99.sub.fitsmanager.Hdu object at 0x000002446771D880>, <g99.sub.fitsmanager.Hdu object at 0x000002446772A3A0>, <g99.sub.fitsmanager.Hdu object at 0x000002446772AE80>, <g99.sub.fitsmanager.Hdu object at 0x0000024467715C70>, <g99.sub.fitsmanager.Hdu object at 0x000002446773BA30>, <g99.sub.fitsmanager.Hdu object at 0x000002446773B8E0>, <g99.sub.fitsmanager.Hdu object at 0x0000024467740400>, <g99.sub.fitsmanager.Hdu object at 0x0000024467740EE0>, <g99.sub.fitsmanager.Hdu object at 0x0000024467750DF0>, <g99.sub.fitsmanager.Hdu object at 0x000002446775D910>, <g99.sub.fitsmanager.Hdu object at 0x0000024467766430>, <g99.sub.fitsmanager.Hdu object at 0x0000024467766F10>, <g99.sub.fitsmanager.Hdu object at 0x00000244677663A0>, <g99.sub.fitsmanager.Hdu object at 0x0000024467777CD0>, <g99.sub.fitsmanager.Hdu object at 0x000002446777E7F0>, <g99.sub.fitsmanager.Hdu object at 0x000002446778A310>, <g99.sub.fitsmanager.Hdu object at 0x000002446778ADF0>, <g99.sub.fitsmanager.Hdu object at 0x000002446778A2E0>, <g99.sub.fitsmanager.Hdu object at 0x000002446779A9A0>, <g99.sub.fitsmanager.Hdu object at 0x000002446779A850>, <g99.sub.fitsmanager.Hdu object at 0x000002446779FFA0>, <g99.sub.fitsmanager.Hdu object at 0x000002446779FE50>, <g99.sub.fitsmanager.Hdu object at 0x00000244677B1D60>, <g99.sub.fitsmanager.Hdu object at 0x00000244677BD880>, <g99.sub.fitsmanager.Hdu object at 0x00000244677C53A0>, <g99.sub.fitsmanager.Hdu object at 0x00000244677C5EE0>, <g99.sub.fitsmanager.Hdu object at 0x00000244677C5280>, <g99.sub.fitsmanager.Hdu object at 0x00000244677D6CD0>]\n",
      "[<g99.sub.fitsmanager.Hdu object at 0x0000024465E164C0>, <g99.sub.fitsmanager.Hdu object at 0x0000024465E164C0>]\n",
      "{'Bias Frame': None}\n",
      "[<g99.sub.fitsmanager.Hdu object at 0x0000024465E166D0>, <g99.sub.fitsmanager.Hdu object at 0x0000024465E166D0>]\n",
      "{'Bias Frame': None}\n",
      "[<g99.sub.fitsmanager.Hdu object at 0x0000024467687C10>, <g99.sub.fitsmanager.Hdu object at 0x0000024467687C10>]\n",
      "{'Bias Frame': None}\n",
      "[<g99.sub.fitsmanager.Hdu object at 0x0000024467687CD0>, <g99.sub.fitsmanager.Hdu object at 0x0000024467687CD0>]\n",
      "{'Bias Frame': None}\n",
      "[<g99.sub.fitsmanager.Hdu object at 0x00000244676ACDF0>, <g99.sub.fitsmanager.Hdu object at 0x00000244676ACDF0>]\n",
      "{'Bias Frame': None}\n",
      "[<g99.sub.fitsmanager.Hdu object at 0x00000244676BB910>, <g99.sub.fitsmanager.Hdu object at 0x00000244676BB910>]\n",
      "{'Bias Frame': None}\n",
      "[<g99.sub.fitsmanager.Hdu object at 0x00000244676BB7C0>, <g99.sub.fitsmanager.Hdu object at 0x00000244676BB7C0>]\n",
      "{'Bias Frame': None}\n",
      "[<g99.sub.fitsmanager.Hdu object at 0x00000244676C8F10>, <g99.sub.fitsmanager.Hdu object at 0x00000244676C8F10>]\n",
      "{'Bias Frame': None}\n",
      "[<g99.sub.fitsmanager.Hdu object at 0x00000244676C8DC0>, <g99.sub.fitsmanager.Hdu object at 0x00000244676C8DC0>]\n",
      "{'Bias Frame': None}\n",
      "[<g99.sub.fitsmanager.Hdu object at 0x00000244676D8CD0>, <g99.sub.fitsmanager.Hdu object at 0x00000244676D8CD0>]\n",
      "{'Bias Frame': None}\n",
      "[<g99.sub.fitsmanager.Hdu object at 0x00000244676E17F0>, <g99.sub.fitsmanager.Hdu object at 0x00000244676E17F0>]\n",
      "{'Bias Frame': None}\n",
      "[<g99.sub.fitsmanager.Hdu object at 0x00000244676E16A0>, <g99.sub.fitsmanager.Hdu object at 0x00000244676E16A0>]\n",
      "{'Bias Frame': None}\n",
      "[<g99.sub.fitsmanager.Hdu object at 0x00000244676E17C0>, <g99.sub.fitsmanager.Hdu object at 0x00000244676E17C0>]\n",
      "{'Bias Frame': None}\n",
      "[<g99.sub.fitsmanager.Hdu object at 0x00000244676ED310>, <g99.sub.fitsmanager.Hdu object at 0x00000244676ED310>]\n",
      "{'Bias Frame': None}\n",
      "[<g99.sub.fitsmanager.Hdu object at 0x00000244676FABB0>, <g99.sub.fitsmanager.Hdu object at 0x00000244676FABB0>]\n",
      "{'Bias Frame': None}\n",
      "[<g99.sub.fitsmanager.Hdu object at 0x00000244677076D0>, <g99.sub.fitsmanager.Hdu object at 0x00000244677076D0>]\n",
      "{'Bias Frame': None, 'Dark Frame': None}\n",
      "[<g99.sub.fitsmanager.Hdu object at 0x0000024467707580>, <g99.sub.fitsmanager.Hdu object at 0x0000024467707580>]\n",
      "{'Bias Frame': None, 'Dark Frame': None}\n",
      "[<g99.sub.fitsmanager.Hdu object at 0x00000244676FAD60>, <g99.sub.fitsmanager.Hdu object at 0x00000244676FAD60>]\n",
      "{'Bias Frame': None, 'Dark Frame': None}\n",
      "[<g99.sub.fitsmanager.Hdu object at 0x0000024467715D60>, <g99.sub.fitsmanager.Hdu object at 0x0000024467715D60>]\n",
      "{'Bias Frame': None, 'Dark Frame': None}\n",
      "[<g99.sub.fitsmanager.Hdu object at 0x000002446771D880>, <g99.sub.fitsmanager.Hdu object at 0x000002446771D880>]\n",
      "{'Bias Frame': None, 'Dark Frame': None}\n",
      "[<g99.sub.fitsmanager.Hdu object at 0x000002446772A3A0>, <g99.sub.fitsmanager.Hdu object at 0x000002446772A3A0>]\n",
      "{'Bias Frame': None, 'Dark Frame': None}\n",
      "[<g99.sub.fitsmanager.Hdu object at 0x000002446772AE80>, <g99.sub.fitsmanager.Hdu object at 0x000002446772AE80>]\n",
      "{'Bias Frame': None, 'Dark Frame': None}\n",
      "[<g99.sub.fitsmanager.Hdu object at 0x0000024467715C70>, <g99.sub.fitsmanager.Hdu object at 0x0000024467715C70>]\n",
      "{'Bias Frame': None, 'Dark Frame': None}\n",
      "[<g99.sub.fitsmanager.Hdu object at 0x000002446773BA30>, <g99.sub.fitsmanager.Hdu object at 0x000002446773BA30>]\n",
      "{'Bias Frame': None, 'Dark Frame': None}\n",
      "[<g99.sub.fitsmanager.Hdu object at 0x000002446773B8E0>, <g99.sub.fitsmanager.Hdu object at 0x000002446773B8E0>]\n",
      "{'Bias Frame': None, 'Dark Frame': None}\n",
      "[<g99.sub.fitsmanager.Hdu object at 0x0000024467740400>, <g99.sub.fitsmanager.Hdu object at 0x0000024467740400>]\n",
      "{'Bias Frame': None, 'Dark Frame': None}\n",
      "[<g99.sub.fitsmanager.Hdu object at 0x0000024467740EE0>, <g99.sub.fitsmanager.Hdu object at 0x0000024467740EE0>]\n",
      "{'Bias Frame': None, 'Dark Frame': None, 'Flat Field': None}\n",
      "[<g99.sub.fitsmanager.Hdu object at 0x0000024467750DF0>, <g99.sub.fitsmanager.Hdu object at 0x0000024467750DF0>]\n",
      "{'Bias Frame': None, 'Dark Frame': None, 'Flat Field': None}\n",
      "[<g99.sub.fitsmanager.Hdu object at 0x000002446775D910>, <g99.sub.fitsmanager.Hdu object at 0x000002446775D910>]\n",
      "{'Bias Frame': None, 'Dark Frame': None, 'Flat Field': None}\n",
      "[<g99.sub.fitsmanager.Hdu object at 0x0000024467766430>, <g99.sub.fitsmanager.Hdu object at 0x0000024467766430>]\n",
      "{'Bias Frame': None, 'Dark Frame': None, 'Flat Field': None}\n",
      "[<g99.sub.fitsmanager.Hdu object at 0x0000024467766F10>, <g99.sub.fitsmanager.Hdu object at 0x0000024467766F10>]\n",
      "{'Bias Frame': None, 'Dark Frame': None, 'Flat Field': None}\n",
      "[<g99.sub.fitsmanager.Hdu object at 0x00000244677663A0>, <g99.sub.fitsmanager.Hdu object at 0x00000244677663A0>]\n",
      "{'Bias Frame': None, 'Dark Frame': None, 'Flat Field': None}\n",
      "[<g99.sub.fitsmanager.Hdu object at 0x0000024467777CD0>, <g99.sub.fitsmanager.Hdu object at 0x0000024467777CD0>]\n",
      "{'Bias Frame': None, 'Dark Frame': None, 'Flat Field': None}\n",
      "[<g99.sub.fitsmanager.Hdu object at 0x000002446777E7F0>, <g99.sub.fitsmanager.Hdu object at 0x000002446777E7F0>]\n",
      "{'Bias Frame': None, 'Dark Frame': None, 'Flat Field': None}\n",
      "[<g99.sub.fitsmanager.Hdu object at 0x000002446778A310>, <g99.sub.fitsmanager.Hdu object at 0x000002446778A310>]\n",
      "{'Bias Frame': None, 'Dark Frame': None, 'Flat Field': None}\n",
      "[<g99.sub.fitsmanager.Hdu object at 0x000002446778ADF0>, <g99.sub.fitsmanager.Hdu object at 0x000002446778ADF0>]\n",
      "{'Bias Frame': None, 'Dark Frame': None, 'Flat Field': None}\n",
      "[<g99.sub.fitsmanager.Hdu object at 0x000002446778A2E0>, <g99.sub.fitsmanager.Hdu object at 0x000002446778A2E0>]\n",
      "{'Bias Frame': None, 'Dark Frame': None, 'Flat Field': None, 'Light Frame': None}\n",
      "[<g99.sub.fitsmanager.Hdu object at 0x000002446779A9A0>, <g99.sub.fitsmanager.Hdu object at 0x000002446779A9A0>]\n",
      "{'Bias Frame': None, 'Dark Frame': None, 'Flat Field': None, 'Light Frame': None}\n",
      "[<g99.sub.fitsmanager.Hdu object at 0x000002446779A850>, <g99.sub.fitsmanager.Hdu object at 0x000002446779A850>]\n",
      "{'Bias Frame': None, 'Dark Frame': None, 'Flat Field': None, 'Light Frame': None}\n",
      "[<g99.sub.fitsmanager.Hdu object at 0x000002446779FFA0>, <g99.sub.fitsmanager.Hdu object at 0x000002446779FFA0>]\n",
      "{'Bias Frame': None, 'Dark Frame': None, 'Flat Field': None, 'Light Frame': None}\n",
      "[<g99.sub.fitsmanager.Hdu object at 0x000002446779FE50>, <g99.sub.fitsmanager.Hdu object at 0x000002446779FE50>]\n",
      "{'Bias Frame': None, 'Dark Frame': None, 'Flat Field': None, 'Light Frame': None}\n",
      "[<g99.sub.fitsmanager.Hdu object at 0x00000244677B1D60>, <g99.sub.fitsmanager.Hdu object at 0x00000244677B1D60>]\n",
      "{'Bias Frame': None, 'Dark Frame': None, 'Flat Field': None, 'Light Frame': None}\n",
      "[<g99.sub.fitsmanager.Hdu object at 0x00000244677BD880>, <g99.sub.fitsmanager.Hdu object at 0x00000244677BD880>]\n",
      "{'Bias Frame': None, 'Dark Frame': None, 'Flat Field': None, 'Light Frame': None}\n",
      "[<g99.sub.fitsmanager.Hdu object at 0x00000244677C53A0>, <g99.sub.fitsmanager.Hdu object at 0x00000244677C53A0>]\n",
      "{'Bias Frame': None, 'Dark Frame': None, 'Flat Field': None, 'Light Frame': None}\n",
      "[<g99.sub.fitsmanager.Hdu object at 0x00000244677C5EE0>, <g99.sub.fitsmanager.Hdu object at 0x00000244677C5EE0>]\n",
      "{'Bias Frame': None, 'Dark Frame': None, 'Flat Field': None, 'Light Frame': None}\n",
      "[<g99.sub.fitsmanager.Hdu object at 0x00000244677C5280>, <g99.sub.fitsmanager.Hdu object at 0x00000244677C5280>]\n",
      "{'Bias Frame': None, 'Dark Frame': None, 'Flat Field': None, 'Light Frame': None}\n",
      "[<g99.sub.fitsmanager.Hdu object at 0x00000244677D6CD0>, <g99.sub.fitsmanager.Hdu object at 0x00000244677D6CD0>]\n",
      "{'Bias Frame': None, 'Dark Frame': None, 'Flat Field': None, 'Light Frame': None}\n",
      "{'Bias Frame': None, 'Dark Frame': None, 'Flat Field': None, 'Light Frame': None}\n"
     ]
    }
   ],
   "source": [
    "from g99.sub.fitsmanager import FitsHandler as fh\n",
    "handler = fh(\"fitsfolder\")\n",
    "obs = handler.get_hdus()\n",
    "\n",
    "    "
   ],
   "metadata": {
    "collapsed": false,
    "ExecuteTime": {
     "end_time": "2024-04-18T23:09:28.724616400Z",
     "start_time": "2024-04-18T23:09:27.969798900Z"
    }
   },
   "id": "9ef84f949459a544"
  },
  {
   "cell_type": "code",
   "execution_count": 2,
   "outputs": [
    {
     "name": "stdout",
     "output_type": "stream",
     "text": [
      "{'Bias Frame': None, 'Dark Frame': None, 'Flat Field': None, 'Light Frame': None}\n"
     ]
    }
   ],
   "source": [
    "print(obs.hdu_sep)"
   ],
   "metadata": {
    "collapsed": false,
    "ExecuteTime": {
     "end_time": "2024-04-18T23:09:28.765603600Z",
     "start_time": "2024-04-18T23:09:28.726636500Z"
    }
   },
   "id": "10ff0e657caa75cd"
  }
 ],
 "metadata": {
  "kernelspec": {
   "display_name": "Python 3",
   "language": "python",
   "name": "python3"
  },
  "language_info": {
   "codemirror_mode": {
    "name": "ipython",
    "version": 2
   },
   "file_extension": ".py",
   "mimetype": "text/x-python",
   "name": "python",
   "nbconvert_exporter": "python",
   "pygments_lexer": "ipython2",
   "version": "2.7.6"
  }
 },
 "nbformat": 4,
 "nbformat_minor": 5
}
