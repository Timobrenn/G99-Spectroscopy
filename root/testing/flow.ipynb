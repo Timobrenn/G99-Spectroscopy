{
 "cells": [
  {
   "cell_type": "code",
   "execution_count": null,
   "id": "initial_id",
   "metadata": {
    "collapsed": true
   },
   "outputs": [],
   "source": [
    "# from g99.sub.fitsmanager import FitsHandler as fh"
   ]
  },
  {
   "cell_type": "code",
   "execution_count": null,
   "outputs": [],
   "source": [
    "# path = r\"dummy/path\"\n",
    "# \n",
    "# handler = fh(path)\n",
    "# observations = handler.get_observations()\n",
    "# observations = observations.include_type(\"type\", 0, 4)\n",
    "# observations = observations.include_type(\"type2\", 0, 5)\n",
    "# observations.create_masters()\n",
    "# observations.display_final()\n"
   ],
   "metadata": {
    "collapsed": false
   },
   "id": "654444284531a8ac"
  },
  {
   "cell_type": "code",
   "execution_count": 9,
   "outputs": [],
   "source": [
    "from astropy.io import fits\n",
    "from pathlib import Path\n",
    "import numpy as np\n",
    "from dataclasses import dataclass\n",
    "\n",
    "_ = \"Not a script, do not run\"\n",
    "\n",
    "\n",
    "\n",
    "class Hdu:\n",
    "    def __init__(self, path: Path, index: int, header: dict, data: np.ndarray):\n",
    "        self.path: Path = path\n",
    "        self.index: int = index\n",
    "        self.header: dict = header\n",
    "        self.data: np.ndarray = data\n",
    "    def __repr__(self):\n",
    "        return f\"<{self.path}> {self.header['TIME-OBS']}{self.index}\"\n",
    "\n",
    "\n",
    "class Observations:\n",
    "    \"\"\"\n",
    "        WORKS WITH FILTERLESS DATA (SPECTOGRAPH), DOESNT DESTINGUISH BETWEEN FILTERS\n",
    "    \"\"\"\n",
    "    def __init__(self, hdus: list):\n",
    "        self.hdus = hdus\n",
    "        d = {}\n",
    "        for hdu in hdus:\n",
    "            type = hdu.header.get(\"IMAGETYP\", \"NO_IMTYPE\")\n",
    "            assert not [hdu] is None\n",
    "            if not d.get(type, None):\n",
    "                d[type] = [hdu]\n",
    "            d[type] = d[type] + [hdu]\n",
    "        self.hdu_sep = d\n",
    "\n",
    "    def __repr__(self):\n",
    "        return f\"<Observation object> {len(self.hdus)} hdu's with datatypes {self.hdu_sep.keys()}\"\n",
    "\n",
    "    def include_type(self, type: str, start: int, stop: int):\n",
    "        self.hdu_sep[type] = self.hdu_sep[type][start:stop]\n",
    "\n",
    "    def create_masters(self):\n",
    "        self.masterbias = self.get_masterbias()\n",
    "        self.masterdark = self.get_masterdark()\n",
    "        self.masterflat = self.get_masterflat()\n",
    "        self.masterlight = self.get_masterlight()\n",
    "\n",
    "    def get_masterbias(self):\n",
    "        biasstack = []\n",
    "        for bias in self.hdu_sep[\"Bias Frame\"]:\n",
    "            biasstack.append(bias.data)\n",
    "        stack = np.stack(biasstack)\n",
    "        return np.median(stack, axis=0)\n",
    "\n",
    "    def get_masterdark(self):\n",
    "        darkstack = []\n",
    "        for dark in self.hdu_sep[\"Dark Frame\"]:\n",
    "            dark_adj = (dark.data - self.masterbias)/dark.header[\"EXPTIME\"]\n",
    "            darkstack.append(dark_adj)\n",
    "        stack = np.stack(darkstack)\n",
    "        return np.median(stack, axis=0)\n",
    "\n",
    "    def get_masterflat(self):\n",
    "        flatstack = []\n",
    "        for flat in self.hdu_sep[\"Light Frame\"]:\n",
    "            flat_adj = (flat.data - self.masterbias - self.masterdark*flat.header[\"EXPTIME\"])\n",
    "            flat_median = np.median(flat_adj)\n",
    "            flat_norm = flat_adj/flat_median\n",
    "            flatstack.append(flat_norm)\n",
    "        stack = np.stack(flatstack)\n",
    "        return np.median(stack, axis=0)/np.median(stack)\n",
    "\n",
    "    def get_masterlight(self):\n",
    "        lightstack = []\n",
    "        for light in self.hdu_sep[\"Light Frame\"]:\n",
    "            light_adj = ((light.data - self.masterbias - self.masterdark*light.header[\"EXPTIME\"])\n",
    "                         /np.where(self.masterflat!=0, self.masterflat, 0.001)) #getting /0 errors\n",
    "            lightstack.append(light_adj)\n",
    "        stack = np.stack(lightstack)\n",
    "        return np.median(stack, axis=0)\n",
    "\n",
    "    def display_final(self):\n",
    "        pass\n",
    "\n",
    "class FitsHandler:\n",
    "    filetypes = [\".FIT\", \".fits\"]\n",
    "    def __init__(self,\n",
    "                 folder_directory: str,\n",
    "                 max_files: int=-1):\n",
    "        self.directory = folder_directory\n",
    "        self.files = list(Path(self.directory).iterdir())\n",
    "        self.max_files = max_files\n",
    "\n",
    "\n",
    "    def get_hdus(self):\n",
    "        files = self.files.copy()\n",
    "        hdus = []\n",
    "\n",
    "        for file in files:\n",
    "            if not file.suffix in self.filetypes:\n",
    "                print(f\"Skipping {file}\")\n",
    "                continue\n",
    "\n",
    "            with fits.open(file) as hdulist:\n",
    "                for i, hdu in enumerate(hdulist):\n",
    "                    if len(hdus) > self.max_files and self.max_files != -1:\n",
    "                        return hdus\n",
    "\n",
    "                    new_hdu = Hdu(file, i, hdu.header, hdu.data)\n",
    "                    hdus.append(new_hdu)\n",
    "        return Observations(hdus)"
   ],
   "metadata": {
    "collapsed": false,
    "ExecuteTime": {
     "end_time": "2024-04-22T16:03:46.697439900Z",
     "start_time": "2024-04-22T16:03:46.667438700Z"
    }
   },
   "id": "d2ba2e5f57fecc35"
  },
  {
   "cell_type": "code",
   "execution_count": 10,
   "outputs": [
    {
     "name": "stdout",
     "output_type": "stream",
     "text": [
      "Skipping fitsfolder\\arcturus.png\n",
      "Skipping fitsfolder\\fibres.png\n",
      "\n",
      "<Observation object> 47 hdu's with datatypes dict_keys(['Bias Frame', 'Dark Frame', 'Flat Field', 'Light Frame'])\n"
     ]
    }
   ],
   "source": [
    "handler = FitsHandler(\"fitsfolder\")\n",
    "obs = handler.get_hdus()\n",
    "print()\n",
    "print(obs)"
   ],
   "metadata": {
    "collapsed": false,
    "ExecuteTime": {
     "end_time": "2024-04-22T16:03:48.479592900Z",
     "start_time": "2024-04-22T16:03:47.802541600Z"
    }
   },
   "id": "ab21bf0909a43383"
  },
  {
   "cell_type": "code",
   "execution_count": 26,
   "outputs": [
    {
     "name": "stdout",
     "output_type": "stream",
     "text": [
      "False\n",
      "False\n",
      "False\n",
      "False\n",
      "False\n",
      "False\n",
      "False\n",
      "False\n",
      "False\n",
      "False\n",
      "False\n",
      "False\n",
      "False\n",
      "False\n",
      "False\n",
      "False\n"
     ]
    }
   ],
   "source": [
    "from matplotlib.pyplot import subplots, show, close\n",
    "\n",
    "for light in obs.hdu_sep[\"Bias Frame\"]:\n",
    "    fig, ax = subplots()\n",
    "    ax.plot(light.data[:,:])\n",
    "    ax.set_title(light)\n",
    "    show()\n",
    "    close(fig)"
   ],
   "metadata": {
    "collapsed": false,
    "ExecuteTime": {
     "end_time": "2024-04-22T16:12:56.410268200Z",
     "start_time": "2024-04-22T16:12:56.308262800Z"
    }
   },
   "id": "1fad7fe66d573a00"
  },
  {
   "cell_type": "code",
   "execution_count": null,
   "outputs": [],
   "source": [],
   "metadata": {
    "collapsed": false
   },
   "id": "35b27b3b9ab859cf"
  }
 ],
 "metadata": {
  "kernelspec": {
   "display_name": "Python 3",
   "language": "python",
   "name": "python3"
  },
  "language_info": {
   "codemirror_mode": {
    "name": "ipython",
    "version": 2
   },
   "file_extension": ".py",
   "mimetype": "text/x-python",
   "name": "python",
   "nbconvert_exporter": "python",
   "pygments_lexer": "ipython2",
   "version": "2.7.6"
  }
 },
 "nbformat": 4,
 "nbformat_minor": 5
}
